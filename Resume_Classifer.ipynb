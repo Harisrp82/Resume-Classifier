{
  "nbformat": 4,
  "nbformat_minor": 0,
  "metadata": {
    "colab": {
      "provenance": []
    },
    "kernelspec": {
      "name": "python3",
      "display_name": "Python 3"
    },
    "language_info": {
      "name": "python"
    }
  },
  "cells": [
    {
      "cell_type": "code",
      "execution_count": 1,
      "metadata": {
        "id": "6s1r_X2Lzh2s"
      },
      "outputs": [],
      "source": [
        "import numpy as np\n",
        "import pandas as pd\n",
        "import matplotlib as plt\n",
        "import seaborn as sns\n"
      ]
    },
    {
      "cell_type": "code",
      "source": [
        "df=pd.read_csv('UpdatedResumeDataSet.csv')"
      ],
      "metadata": {
        "id": "k-Fbr9fzz9qF"
      },
      "execution_count": 2,
      "outputs": []
    },
    {
      "cell_type": "code",
      "source": [
        "df.head()"
      ],
      "metadata": {
        "colab": {
          "base_uri": "https://localhost:8080/",
          "height": 206
        },
        "id": "Lp_B_6Gi2H5m",
        "outputId": "f77e52e5-87d0-44b9-f8e6-499f99cb0791"
      },
      "execution_count": 3,
      "outputs": [
        {
          "output_type": "execute_result",
          "data": {
            "text/plain": [
              "       Category                                             Resume\n",
              "0  Data Science  Skills * Programming Languages: Python (pandas...\n",
              "1  Data Science  Education Details \\r\\nMay 2013 to May 2017 B.E...\n",
              "2  Data Science  Areas of Interest Deep Learning, Control Syste...\n",
              "3  Data Science  Skills â¢ R â¢ Python â¢ SAP HANA â¢ Table...\n",
              "4  Data Science  Education Details \\r\\n MCA   YMCAUST,  Faridab..."
            ],
            "text/html": [
              "\n",
              "  <div id=\"df-253b3862-f945-40e2-a53d-df43829943f6\" class=\"colab-df-container\">\n",
              "    <div>\n",
              "<style scoped>\n",
              "    .dataframe tbody tr th:only-of-type {\n",
              "        vertical-align: middle;\n",
              "    }\n",
              "\n",
              "    .dataframe tbody tr th {\n",
              "        vertical-align: top;\n",
              "    }\n",
              "\n",
              "    .dataframe thead th {\n",
              "        text-align: right;\n",
              "    }\n",
              "</style>\n",
              "<table border=\"1\" class=\"dataframe\">\n",
              "  <thead>\n",
              "    <tr style=\"text-align: right;\">\n",
              "      <th></th>\n",
              "      <th>Category</th>\n",
              "      <th>Resume</th>\n",
              "    </tr>\n",
              "  </thead>\n",
              "  <tbody>\n",
              "    <tr>\n",
              "      <th>0</th>\n",
              "      <td>Data Science</td>\n",
              "      <td>Skills * Programming Languages: Python (pandas...</td>\n",
              "    </tr>\n",
              "    <tr>\n",
              "      <th>1</th>\n",
              "      <td>Data Science</td>\n",
              "      <td>Education Details \\r\\nMay 2013 to May 2017 B.E...</td>\n",
              "    </tr>\n",
              "    <tr>\n",
              "      <th>2</th>\n",
              "      <td>Data Science</td>\n",
              "      <td>Areas of Interest Deep Learning, Control Syste...</td>\n",
              "    </tr>\n",
              "    <tr>\n",
              "      <th>3</th>\n",
              "      <td>Data Science</td>\n",
              "      <td>Skills â¢ R â¢ Python â¢ SAP HANA â¢ Table...</td>\n",
              "    </tr>\n",
              "    <tr>\n",
              "      <th>4</th>\n",
              "      <td>Data Science</td>\n",
              "      <td>Education Details \\r\\n MCA   YMCAUST,  Faridab...</td>\n",
              "    </tr>\n",
              "  </tbody>\n",
              "</table>\n",
              "</div>\n",
              "    <div class=\"colab-df-buttons\">\n",
              "\n",
              "  <div class=\"colab-df-container\">\n",
              "    <button class=\"colab-df-convert\" onclick=\"convertToInteractive('df-253b3862-f945-40e2-a53d-df43829943f6')\"\n",
              "            title=\"Convert this dataframe to an interactive table.\"\n",
              "            style=\"display:none;\">\n",
              "\n",
              "  <svg xmlns=\"http://www.w3.org/2000/svg\" height=\"24px\" viewBox=\"0 -960 960 960\">\n",
              "    <path d=\"M120-120v-720h720v720H120Zm60-500h600v-160H180v160Zm220 220h160v-160H400v160Zm0 220h160v-160H400v160ZM180-400h160v-160H180v160Zm440 0h160v-160H620v160ZM180-180h160v-160H180v160Zm440 0h160v-160H620v160Z\"/>\n",
              "  </svg>\n",
              "    </button>\n",
              "\n",
              "  <style>\n",
              "    .colab-df-container {\n",
              "      display:flex;\n",
              "      gap: 12px;\n",
              "    }\n",
              "\n",
              "    .colab-df-convert {\n",
              "      background-color: #E8F0FE;\n",
              "      border: none;\n",
              "      border-radius: 50%;\n",
              "      cursor: pointer;\n",
              "      display: none;\n",
              "      fill: #1967D2;\n",
              "      height: 32px;\n",
              "      padding: 0 0 0 0;\n",
              "      width: 32px;\n",
              "    }\n",
              "\n",
              "    .colab-df-convert:hover {\n",
              "      background-color: #E2EBFA;\n",
              "      box-shadow: 0px 1px 2px rgba(60, 64, 67, 0.3), 0px 1px 3px 1px rgba(60, 64, 67, 0.15);\n",
              "      fill: #174EA6;\n",
              "    }\n",
              "\n",
              "    .colab-df-buttons div {\n",
              "      margin-bottom: 4px;\n",
              "    }\n",
              "\n",
              "    [theme=dark] .colab-df-convert {\n",
              "      background-color: #3B4455;\n",
              "      fill: #D2E3FC;\n",
              "    }\n",
              "\n",
              "    [theme=dark] .colab-df-convert:hover {\n",
              "      background-color: #434B5C;\n",
              "      box-shadow: 0px 1px 3px 1px rgba(0, 0, 0, 0.15);\n",
              "      filter: drop-shadow(0px 1px 2px rgba(0, 0, 0, 0.3));\n",
              "      fill: #FFFFFF;\n",
              "    }\n",
              "  </style>\n",
              "\n",
              "    <script>\n",
              "      const buttonEl =\n",
              "        document.querySelector('#df-253b3862-f945-40e2-a53d-df43829943f6 button.colab-df-convert');\n",
              "      buttonEl.style.display =\n",
              "        google.colab.kernel.accessAllowed ? 'block' : 'none';\n",
              "\n",
              "      async function convertToInteractive(key) {\n",
              "        const element = document.querySelector('#df-253b3862-f945-40e2-a53d-df43829943f6');\n",
              "        const dataTable =\n",
              "          await google.colab.kernel.invokeFunction('convertToInteractive',\n",
              "                                                    [key], {});\n",
              "        if (!dataTable) return;\n",
              "\n",
              "        const docLinkHtml = 'Like what you see? Visit the ' +\n",
              "          '<a target=\"_blank\" href=https://colab.research.google.com/notebooks/data_table.ipynb>data table notebook</a>'\n",
              "          + ' to learn more about interactive tables.';\n",
              "        element.innerHTML = '';\n",
              "        dataTable['output_type'] = 'display_data';\n",
              "        await google.colab.output.renderOutput(dataTable, element);\n",
              "        const docLink = document.createElement('div');\n",
              "        docLink.innerHTML = docLinkHtml;\n",
              "        element.appendChild(docLink);\n",
              "      }\n",
              "    </script>\n",
              "  </div>\n",
              "\n",
              "\n",
              "<div id=\"df-14ecb14b-c834-4f46-b3de-7d5f02a9a2fe\">\n",
              "  <button class=\"colab-df-quickchart\" onclick=\"quickchart('df-14ecb14b-c834-4f46-b3de-7d5f02a9a2fe')\"\n",
              "            title=\"Suggest charts\"\n",
              "            style=\"display:none;\">\n",
              "\n",
              "<svg xmlns=\"http://www.w3.org/2000/svg\" height=\"24px\"viewBox=\"0 0 24 24\"\n",
              "     width=\"24px\">\n",
              "    <g>\n",
              "        <path d=\"M19 3H5c-1.1 0-2 .9-2 2v14c0 1.1.9 2 2 2h14c1.1 0 2-.9 2-2V5c0-1.1-.9-2-2-2zM9 17H7v-7h2v7zm4 0h-2V7h2v10zm4 0h-2v-4h2v4z\"/>\n",
              "    </g>\n",
              "</svg>\n",
              "  </button>\n",
              "\n",
              "<style>\n",
              "  .colab-df-quickchart {\n",
              "      --bg-color: #E8F0FE;\n",
              "      --fill-color: #1967D2;\n",
              "      --hover-bg-color: #E2EBFA;\n",
              "      --hover-fill-color: #174EA6;\n",
              "      --disabled-fill-color: #AAA;\n",
              "      --disabled-bg-color: #DDD;\n",
              "  }\n",
              "\n",
              "  [theme=dark] .colab-df-quickchart {\n",
              "      --bg-color: #3B4455;\n",
              "      --fill-color: #D2E3FC;\n",
              "      --hover-bg-color: #434B5C;\n",
              "      --hover-fill-color: #FFFFFF;\n",
              "      --disabled-bg-color: #3B4455;\n",
              "      --disabled-fill-color: #666;\n",
              "  }\n",
              "\n",
              "  .colab-df-quickchart {\n",
              "    background-color: var(--bg-color);\n",
              "    border: none;\n",
              "    border-radius: 50%;\n",
              "    cursor: pointer;\n",
              "    display: none;\n",
              "    fill: var(--fill-color);\n",
              "    height: 32px;\n",
              "    padding: 0;\n",
              "    width: 32px;\n",
              "  }\n",
              "\n",
              "  .colab-df-quickchart:hover {\n",
              "    background-color: var(--hover-bg-color);\n",
              "    box-shadow: 0 1px 2px rgba(60, 64, 67, 0.3), 0 1px 3px 1px rgba(60, 64, 67, 0.15);\n",
              "    fill: var(--button-hover-fill-color);\n",
              "  }\n",
              "\n",
              "  .colab-df-quickchart-complete:disabled,\n",
              "  .colab-df-quickchart-complete:disabled:hover {\n",
              "    background-color: var(--disabled-bg-color);\n",
              "    fill: var(--disabled-fill-color);\n",
              "    box-shadow: none;\n",
              "  }\n",
              "\n",
              "  .colab-df-spinner {\n",
              "    border: 2px solid var(--fill-color);\n",
              "    border-color: transparent;\n",
              "    border-bottom-color: var(--fill-color);\n",
              "    animation:\n",
              "      spin 1s steps(1) infinite;\n",
              "  }\n",
              "\n",
              "  @keyframes spin {\n",
              "    0% {\n",
              "      border-color: transparent;\n",
              "      border-bottom-color: var(--fill-color);\n",
              "      border-left-color: var(--fill-color);\n",
              "    }\n",
              "    20% {\n",
              "      border-color: transparent;\n",
              "      border-left-color: var(--fill-color);\n",
              "      border-top-color: var(--fill-color);\n",
              "    }\n",
              "    30% {\n",
              "      border-color: transparent;\n",
              "      border-left-color: var(--fill-color);\n",
              "      border-top-color: var(--fill-color);\n",
              "      border-right-color: var(--fill-color);\n",
              "    }\n",
              "    40% {\n",
              "      border-color: transparent;\n",
              "      border-right-color: var(--fill-color);\n",
              "      border-top-color: var(--fill-color);\n",
              "    }\n",
              "    60% {\n",
              "      border-color: transparent;\n",
              "      border-right-color: var(--fill-color);\n",
              "    }\n",
              "    80% {\n",
              "      border-color: transparent;\n",
              "      border-right-color: var(--fill-color);\n",
              "      border-bottom-color: var(--fill-color);\n",
              "    }\n",
              "    90% {\n",
              "      border-color: transparent;\n",
              "      border-bottom-color: var(--fill-color);\n",
              "    }\n",
              "  }\n",
              "</style>\n",
              "\n",
              "  <script>\n",
              "    async function quickchart(key) {\n",
              "      const quickchartButtonEl =\n",
              "        document.querySelector('#' + key + ' button');\n",
              "      quickchartButtonEl.disabled = true;  // To prevent multiple clicks.\n",
              "      quickchartButtonEl.classList.add('colab-df-spinner');\n",
              "      try {\n",
              "        const charts = await google.colab.kernel.invokeFunction(\n",
              "            'suggestCharts', [key], {});\n",
              "      } catch (error) {\n",
              "        console.error('Error during call to suggestCharts:', error);\n",
              "      }\n",
              "      quickchartButtonEl.classList.remove('colab-df-spinner');\n",
              "      quickchartButtonEl.classList.add('colab-df-quickchart-complete');\n",
              "    }\n",
              "    (() => {\n",
              "      let quickchartButtonEl =\n",
              "        document.querySelector('#df-14ecb14b-c834-4f46-b3de-7d5f02a9a2fe button');\n",
              "      quickchartButtonEl.style.display =\n",
              "        google.colab.kernel.accessAllowed ? 'block' : 'none';\n",
              "    })();\n",
              "  </script>\n",
              "</div>\n",
              "    </div>\n",
              "  </div>\n"
            ],
            "application/vnd.google.colaboratory.intrinsic+json": {
              "type": "dataframe",
              "variable_name": "df",
              "summary": "{\n  \"name\": \"df\",\n  \"rows\": 962,\n  \"fields\": [\n    {\n      \"column\": \"Category\",\n      \"properties\": {\n        \"dtype\": \"category\",\n        \"num_unique_values\": 25,\n        \"samples\": [\n          \"Civil Engineer\",\n          \"DevOps Engineer\",\n          \"Data Science\"\n        ],\n        \"semantic_type\": \"\",\n        \"description\": \"\"\n      }\n    },\n    {\n      \"column\": \"Resume\",\n      \"properties\": {\n        \"dtype\": \"category\",\n        \"num_unique_values\": 166,\n        \"samples\": [\n          \"KEY COMPETENCIES \\u00e2\\u009c\\u00b6Multi - Operations Management\\u00e2\\u009c\\u00b6People Management \\u00e2\\u009c\\u00b6Customer Services - Emails \\u00e2\\u009c\\u00b6 MIS \\u00e2\\u009c\\u00b6Vendor & Client Services Management\\u00e2\\u009c\\u00b6Cross Functional Coordination\\u00e2\\u009c\\u00b6Banking & Financial Services\\u00e2\\u009c\\u00b6 Transaction Monitoring * ATM Operations \\u00e2\\u009c\\u00b6 & Prepaid Card Operations (Pre-Issuance & Post-Issuance) \\u00e2\\u009c\\u00b6 POS Operations * JOB PROFILE & SKILLS: \\u00e2\\u0080\\u00a2 An effective communicator with excellent relationship building & interpersonal skills. Strong analytical, problem solving & organizational abilities. \\u00e2\\u0080\\u00a2 Extensive experience in managing operations with demonstrated leadership qualities & organisational skills during the tenure. \\u00e2\\u0080\\u00a2 Managing customer centric operations & ensuring customer satisfaction by achieving service quality norms. \\u00e2\\u0080\\u00a2 Analyzing of all operational problems, customer complaints and take preventive and corrective actions to resolve the same. \\u00e2\\u0080\\u00a2 Receive and respond to Key customer inquiries in an effective manner and provide relevant and timely information. \\u00e2\\u0080\\u00a2 Deft in steering banking back-end operations, analyzing risks and managing delinquencies with dexterity across applying techniques for maximizing recoveries and minimizing credit losses. \\u00e2\\u0080\\u00a2 Analyzed & identified training needs of the team members and developing, organizing and conducting training programs and manage bottom quartile team to improve their performance. \\u00e2\\u0080\\u00a2 Preparing and maintaining daily MIS reports to evaluate the performance and efficiency of the process relate to various verticals. \\u00e2\\u0080\\u00a2 Measuring the performance of the processes in terms of efficiency and effectiveness matrix and ensuring adherence to SLA. \\u00e2\\u0080\\u00a2 Major Activities Define processes for Field Services were monitored and necessary checks were executed and controlled. Also measured Vendor SLA by analyzing the TAT of vendors & the Client SLA provided to us. \\u00e2\\u0080\\u00a2 As per company procedures, handling & ensuring vendor's payment issues to be sorted out &payments are processed on quarterly basis. \\u00e2\\u0080\\u00a2 Appropriately plan and execute each skill of operations in accordance with the department's policies and procedures. \\u00e2\\u0080\\u00a2 Manage relationships with business team, software development team and other services to achieve project objectives. Different software Worked till now: - a. CTL prime - Axis Bank Credit Cards b. Insight - For POS Machine technical operations for Amex (MID & TID Generation- ATOS (Venture Infotek) c. Ticket Management System - TATA Communications Private Services Ltd (ATM - NOC Operations) d. Branch Portal (Yalamanchili Software Exports Ltd) - Prepaid Cards (SBI Bank & Zaggle Prepaid Oceans Services Ltd) Zaggle Prepaid Ocean Services Pvt Ltd Oct, 2017 to Till Date Designation: Manager - Operations (Payment Industry - Prepaid Cards - INR) Education Details \\r\\n  Commerce Mumbai, Maharashtra Mumbai University\\r\\nOperations Manager \\r\\n\\r\\nService Manager - Operations (Payment Industry - Prepaid Cards - INR & FTC)\\r\\nSkill Details \\r\\nOPERATIONS- Exprience - 73 months\\r\\nSATISFACTION- Exprience - 48 months\\r\\nTRAINING- Exprience - 24 months\\r\\nNOC- Exprience - 23 months\\r\\nPOINT OF SALE- Exprience - 20 monthsCompany Details \\r\\ncompany - Zaggle Prepaid Ocean Services Pvt Ltd\\r\\ndescription - Card Operations\\r\\ncompany - Yalamanchili Software Exports Ltd\\r\\ndescription - 24*7 Operations Pvt Ltd) Dec 2015 to Feb 2017\\r\\n\\r\\nDesignation: Service Manager - Operations (Payment Industry - Prepaid Cards - INR & FTC)\\r\\n\\r\\nKey Contributions: \\u00e2\\u0080\\u00a2 A result-oriented business professional in planning, executing& managing processes, improving efficiency of operations, team building and detailing process information to determine effective result into operations.\\r\\n\\u00e2\\u0080\\u00a2 Ensuring PINs generation (SLA) is maintained and chargeback cases are raised in perfect timeframe.\\r\\n\\u00e2\\u0080\\u00a2 Managing email customer services properly and ensuring the emails are replied properly. Also, ensuring transaction monitoring is properly managed 24/7.\\r\\n\\u00e2\\u0080\\u00a2 Assisting Bankers (SBI & Associated Banks) for their BCP plans by getting executed in the system with the help of DR-PR plans & vice versa or any other business requirements.\\r\\n\\u00e2\\u0080\\u00a2 Expertise in maintaining highest level of quality in operations; ensuring adherence to all the quality parameters and procedures as per the stringent norms.\\r\\n\\u00e2\\u0080\\u00a2 Lead, manage and supervise the execution of external audit engagements and responsible for presenting the findings & developing a quality reports to the senior Management and Clients.\\r\\n\\u00e2\\u0080\\u00a2 Coach/mentor (20) team members to perform at a higher level by giving opportunities, providing timely continuous feedback and working with staff to improve their communication, time management, decision making, organization, and analytical skills.\\r\\n\\u00e2\\u0080\\u00a2 Providing the solutions and services to the client in their own premises with aforesaid count of team members.\\r\\n\\u00e2\\u0080\\u00a2 Also ensuring end to end process of PR & DR as per client requirements (PR- DR & DR -PR) by interacting with internal & external stakeholders.\\r\\n\\u00e2\\u0080\\u00a2 Determining process gaps and designing & conducting training programs to enhance operational efficiency and retain talent by providing optimum opportunities for personal and professional growth.\\r\\ncompany - Credit Cards\\r\\ndescription - Ensured highest standard of customer satisfaction and quality service; developing new policies and procedures to improve based on customer feedback and resolving customer queries via correspondence, inbound calls & email channels with the strength of (12-16) Team members.\\r\\ncompany - AGS Transact Technologies Limited\\r\\ndescription - Key Contributions: Lead - SPOC to Banks\\r\\ncompany - TATA Communications Payment Solutions Ltd\\r\\ndescription - To make ATMs operational within TAT by analyzing the issue is technical or non-technical and also by interacting with internal & external stakeholders.\\r\\ncompany - Vertex Customer Solutions India Private Ltd\\r\\ndescription - Key Contributions: \\u00e2\\u0080\\u00a2 Build positive working relationship with all team members and clients by keeping Management informed   of KYC document collection & con-current audit progress, responding timely to Management inquiries, understanding the business and conducting self professionally.\\r\\ncompany - Financial Inclusion Network & Operations Limited\\r\\ndescription - Key Contributions: POS-Operations \\u00e2\\u0080\\u00a2 Cascading the adherence of process is strictly followed by team members & training them to reduce the downtime.\\r\\n\\u00e2\\u0080\\u00a2 Managing Stock of EDC Terminals \\u00e2\\u0080\\u00a2 Managing Deployments of terminals through Multiple teams \\u00e2\\u0080\\u00a2 Would have worked with multiple terminal make & model \\u00e2\\u0080\\u00a2 Managing Inward, Outward & QC of applications installed in the POS machines.\\r\\ncompany - Venture Infotek Private Ltd\\r\\ndescription - Key Contributions: POS-Operations\\r\\ncompany - Axis Bank Ltd - Customer Services\\r\\ndescription - Aug 2006 to Oct 2009 (Ma-Foi&I- smart)\\r\\n\\r\\nDesignation: Team Leader/Executive - Emails, Phone Banking & Correspondence Unit (Snail Mails)\",\n          \"Skill Set: Hadoop, Map Reduce, HDFS, Hive, Sqoop, java. Duration: 2016 to 2017. Role: Hadoop Developer Rplus offers an quick, simple and powerful cloud based Solution, Demand Sense to accurately predict demand for your product in all your markets which Combines Enterprise and External Data to predict demand more accurately through Uses Social Conversation and Sentiments to derive demand and Identifies significant drivers of sale out of hordes of factors that Selects the best suited model out of multiple forecasting models for each product. Responsibilities: \\u00e2\\u0080\\u00a2 Involved in deploying the product for customers, gathering requirements and algorithm optimization at backend of the product. \\u00e2\\u0080\\u00a2 Load and transform Large Datasets of structured semi structured. \\u00e2\\u0080\\u00a2 Responsible to manage data coming from different sources and application \\u00e2\\u0080\\u00a2 Supported Map Reduce Programs those are running on the cluster \\u00e2\\u0080\\u00a2 Involved in creating Hive tables, loading with data and writing hive queries which will run internally in map reduce way.Education Details \\r\\n\\r\\nHadoop Developer \\r\\n\\r\\nHadoop Developer - Braindatawire\\r\\nSkill Details \\r\\nAPACHE HADOOP HDFS- Exprience - 49 months\\r\\nAPACHE HADOOP SQOOP- Exprience - 49 months\\r\\nHadoop- Exprience - 49 months\\r\\nHADOOP- Exprience - 49 months\\r\\nHADOOP DISTRIBUTED FILE SYSTEM- Exprience - 49 monthsCompany Details \\r\\ncompany - Braindatawire\\r\\ndescription - Technical Skills:\\r\\n\\u00e2\\u0080\\u00a2   Programming: Core Java, Map Reduce, Scala\\r\\n\\u00e2\\u0080\\u00a2   Hadoop Tools: HDFS, Spark, Map Reduce, Sqoop, Hive, Hbase\\r\\n\\u00e2\\u0080\\u00a2   Database: MySQL, Oracle\\r\\n\\u00e2\\u0080\\u00a2   Scripting: Shell Scripting\\r\\n\\u00e2\\u0080\\u00a2   IDE: Eclipse\\r\\n\\u00e2\\u0080\\u00a2   Operating Systems: Linux (CentOS), Windows\\r\\n\\u00e2\\u0080\\u00a2   Source Control: Git (Github)\",\n          \"IT Skills: Area Exposure Modeling Tool: Bizagi, MS Visio Prototyping Tool: Indigo Studio. Documentation: MS Office (MS Word, MS Excel, MS Power Point) Testing Proficiency: Smoke, Sanity, Integration, Functional, Acceptance and UI Methodology implemented: Waterfall, Agile (Scrum) Database: SQL Testing Tool: HPQC Business Exposure Education Details \\r\\n Bachelor Of Computer Engineering Computer Engineering Mumbai, Maharashtra Thadomal Shahani Engineering college\\r\\n Diploma Computer Engineering Ulhasnagar, Maharashtra Institute of Technology\\r\\n Secondary School Certificate  Ulhasnagar, Maharashtra New English High School\\r\\nSenior Business Analyst - RPA \\r\\n\\r\\nSenior Business Analyst - RPA - Hexaware Technologies\\r\\nSkill Details \\r\\nDOCUMENTATION- Exprience - 47 months\\r\\nTESTING- Exprience - 29 months\\r\\nINTEGRATION- Exprience - 25 months\\r\\nINTEGRATOR- Exprience - 25 months\\r\\nPROTOTYPE- Exprience - 13 monthsCompany Details \\r\\ncompany - Hexaware Technologies\\r\\ndescription - Working as a RPA Business Analyst\\r\\ncompany - BBH- Brown Brothers Harriman & Co\\r\\ndescription - is a private bank that provides commercial banking, investment management, brokerage, and trust services to private companies and individuals. It also performs merger advisory, foreign exchange, custody services, commercial banking, and corporate financing services.\\r\\n\\r\\nResponsibilities: \\u00e2\\u0080\\u00a2 Performed Automation Assessment of various Processes and identified processes which can be candidates of RPA.\\r\\n\\u00e2\\u0080\\u00a2 Conducting Assessment that involves an initial Understanding of the Existing System, their technology, processes, Usage of the tools, Feasibility of tool with automation tool along with automation ROI analysis.\\r\\n\\u00e2\\u0080\\u00a2 Preparing the Automation Potential Sheet which describes the steps in the process, the volume and frequency of the transaction, the AHT taken by SME to perform the process and depending on the steps that could be automated, Automation potential and the manual efforts that will be saved are calculated.\\r\\nCalculating the complexity of the Process which is considered for automation and depending on all these factors Number of Bots and Number of Automation tool Licenses are determined.\\r\\n\\u00e2\\u0080\\u00a2 Implementing a Proof of Concept (POC) to Validate Feasibility by executing the selected critical use cases for conducting a POC which will helps to identify financial and operational benefits and provide recommendations regarding the actual need for complete automation.\\r\\n\\u00e2\\u0080\\u00a2 Gathering business requirements by conducting detailed interviews with business users, stakeholders, and Subject Matter Experts (SME's) \\u00e2\\u0080\\u00a2 Preparing Business Requirement Document and then converted Business requirements into Functional Requirements Specification.\\r\\n \\u00e2\\u0080\\u00a2 Constructing prototype early toward a design acceptable to the customer and feasible.\\r\\n\\u00e2\\u0080\\u00a2 Assisting in designing test plans, test scenarios and test cases for integration, regression, and user acceptance testing (UAT) to improve the overall quality of the Automation.\\r\\n\\u00e2\\u0080\\u00a2 Participating regularly in Walkthroughs and Review meetings with Project Manager, QA Engineers, and Development team.\\r\\n\\u00e2\\u0080\\u00a2 Regularly interacting with offshore and onshore development teams.\\r\\ncompany - FADV - First Advantage\\r\\ndescription - is a criminal background check company that delivers global solutions ranging from employment screenings to background checks.\\r\\nThe following are the processes which were covered:\\r\\nEmail Process, Research Process, Review Process.\\r\\n\\r\\nResponsibilities: \\u00e2\\u0080\\u00a2 Requirement Gathering through conducting Interviews & Brainstorming sessions with stakeholders \\u00e2\\u0080\\u00a2 To develop decision models and execute those rules as per the use case specifications.\\r\\n\\u00e2\\u0080\\u00a2 To Test/validate the decision models against document test data.\\r\\n\\u00e2\\u0080\\u00a2 To maintain and enhance the decision models for changes in regulations as per use case specifications.\\r\\n\\u00e2\\u0080\\u00a2 Responsible for performing the business research that will make a business growth.\\r\\n\\u00e2\\u0080\\u00a2 Developing a clear understanding of existing business functions and processes.\\r\\n\\u00e2\\u0080\\u00a2 Effectively communicate with the onsite clients for the queries, suggestions, and update.\\r\\n\\u00e2\\u0080\\u00a2 Giving suggestions to enhance the current processes.\\r\\n\\u00e2\\u0080\\u00a2 Identifying areas for process improvement.\\r\\n\\u00e2\\u0080\\u00a2 Flagging up potential problems at an early stage.\\r\\n\\u00e2\\u0080\\u00a2 Preparing PowerPoint presentations and documents for business meetings.\\r\\n\\u00e2\\u0080\\u00a2 Using any information gathered to write up detailed reports.\\r\\n\\u00e2\\u0080\\u00a2 Highlighting risks and issues that could impact project delivery.\\r\\n\\u00e2\\u0080\\u00a2 Able to work accurately.\\r\\n\\u00e2\\u0080\\u00a2 To develop and maintain documentation for internal team training and client end user operations.\\r\\n\\u00e2\\u0080\\u00a2 To work efficiently with team members and across teams.\\r\\n\\u00e2\\u0080\\u00a2 To mentor and train junior team members.\\r\\ncompany - Clinical Testing, Lab Work and Diagnostic Testing\\r\\ndescription - IQVIA provides services to its customers this includes: Clinical Testing, Lab Work and Diagnostic Testing under clinical trial. These customers need to pay to IQVIA and aging details and invoices are generated for the same.\\r\\nThe following are the processes which were covered:\\r\\n\\r\\nTracking Payments, Automated Real Time Metrics Reporting (Dashboard), Past Due Notifications, AR Statements, Credit/Rebill.\\r\\nResponsibilities: \\u00e2\\u0080\\u00a2 Conducting meetings with clients and key stakeholders to gather requirements, analyze, finalize and have formal sign-offs from approvers Gather and perform analysis of the business requirements \\u00e2\\u0080\\u00a2 Translating the business requirements into the Business Requirement Document [BRD], Functional Requirement Document [FRD].\\r\\n\\u00e2\\u0080\\u00a2 Facilitating meetings with the appropriate subject matter experts in both business and technology teams \\u00e2\\u0080\\u00a2 Coordinating with business user community for the execution of user acceptance test as well as tracking issues \\u00e2\\u0080\\u00a2 Working, collaborating and coordinating with Offshore and Onsite team members to fulfill the BA responsibilities from project initiation to Post-Implementation \\u00e2\\u0080\\u00a2 Reviewing the test scripts with business users as well as technology team. Execute test scripts with expected results for the System Integration Test (SIT) and User Acceptance Test (UAT) \\u00e2\\u0080\\u00a2 Coordinating and conducting the Production Acceptance Testing (PAT) with the business users \\u00e2\\u0080\\u00a2 Creating flow diagrams, structure charts, and other types of system or process representations \\u00e2\\u0080\\u00a2 Managing changes to requirements and baseline through a change control process \\u00e2\\u0080\\u00a2 Utilizing standard methods, design and testing tools throughout project development life cycle \\u00e2\\u0080\\u00a2 Work closely with the operational functional teams, operations management, and personnel, and various technology teams to facilitate a shared understanding of requirements and priorities across all areas\\r\\ncompany - Eduavenir IT Solution\\r\\ndescription - Project: M.B.M.S\\r\\n\\r\\nM.B.M.S. - is an Inventory management application that allows user to manage inventory details of different warehouses, having different products located at various locations and help extract what goods have been procured, sold or returned by customers. It generates automated invoicesalong withcustomized reports. It also managescustomer complaint and resolution system implementation along with automated MIS on monthly basis.Sales and forecastingis also developed on MIS System and the streamlining of process of warehousing and dispatch along with online proof of delivery management system (POD documentation) is generated.\\r\\n\\r\\nResponsibilities: \\u00e2\\u0080\\u00a2 Participate in requirement gathering discussion with client to understand the flow of business processes \\u00e2\\u0080\\u00a2 Analyze the requirements and determine the core processes, develop Process Documentation and ensure to stay up-to-date in conjunction with on-going changes \\u00e2\\u0080\\u00a2 Participate in process flow analysis and preparing BRD, SRS.\\r\\n\\u00e2\\u0080\\u00a2 Coordinating with developers, designers & operations teams for various nuances of the project, communicate the stakeholder requirements from requirement /enhancement to implementation and finally deliver the same within estimated timeframe.\\r\\n\\u00e2\\u0080\\u00a2 Support UAT by reviewing test cases, manage version control of documents, software builds.\\r\\n\\u00e2\\u0080\\u00a2 Coordinate with the stakeholders for UAT sign off and coordinate internally for production movement till Golive stage of the application.\\r\\n\\u00e2\\u0080\\u00a2 Provide demo and training to internal and end user using PowerPoint presentation.\\r\\n\\u00e2\\u0080\\u00a2 Resolving project functional &technical issues during UAT.\\r\\n\\u00e2\\u0080\\u00a2 Prioritizing the Production bugs and resolving the same within the estimated timeframe.\\r\\n\\u00e2\\u0080\\u00a2 Preparing Project Status Report and Production Bugs Status to all the stakeholders.\\r\\n\\u00e2\\u0080\\u00a2 Promoting and Networking for online trading platform.\\r\\n\\u00e2\\u0080\\u00a2 Designing query sheet for obtaining and comparison of quotes from various vendors.\\r\\n\\u00e2\\u0080\\u00a2 Development of product codes / material codes for inventory management (Master Data Management)\\r\\ncompany - CAPGEMINI Head Office\\r\\ndescription - Type: Mobile and Device Testing.       Duration: January 2014 - August 2014\\r\\n\\r\\nFollet - An application which takes an electronic request from the user for the books he requires from a particular follet store. This detailed information about books that will include the name of the book, its price, the date of the transaction and the parties involved which will then be sent to follet stores. User then create request for one or more books for a given date. This request is then processed further and user gets a mail of the date when he will be provided with that book.\\r\\n\\r\\nResponsibilities: \\u00e2\\u0080\\u00a2 Understanding the needs and business requirements.\\r\\n\\u00e2\\u0080\\u00a2 Preparing BRD, SRS by eliciting all the requirements from the client and SMEs \\u00e2\\u0080\\u00a2 Understanding the dependency of the modules in the system \\u00e2\\u0080\\u00a2 Preparation of test plan for Unit level and Integration level.\\r\\n\\u00e2\\u0080\\u00a2 Preparation and execution of test cases.\\r\\n\\u00e2\\u0080\\u00a2 Defect tracking, Issue Resolution, Risk Monitoring, Status Tracking, Reporting and Follow-up.\\r\\n\\u00e2\\u0080\\u00a2 Preparation of Test Completion report.\\r\\ncompany - CAPGEMINI Head Office\\r\\ndescription - \\r\\ncompany - CAPGEMINI Head Office\\r\\ndescription - Humana is a health care insurance project of U.S. which deals with supplying various medicines to citizens as per the doctor's reference and patient's insurance policy. This application keeps track of all the medicines user has consumed in the past and generates a patient history. A citizen is given a drug only after the doctor's reference so the doctor's information is also linked with the patient's history.\\r\\n\\r\\nResponsibilities: \\u00e2\\u0080\\u00a2 Understanding the requirements and getting clarifications from client.\\r\\n\\u00e2\\u0080\\u00a2 Involved in writing test cases based on test scenarios and execute them.\\r\\n\\u00e2\\u0080\\u00a2 Ensuring Test Coverage using Requirement Traceability Matrix (RTM) \\u00e2\\u0080\\u00a2 Preparation of Test Completion report.\\r\\ncompany - CAPGEMINI Head Office\\r\\ndescription - Testing Trends WQR (World Quality Report) is an application which allows the users to take a survey on different methods and technologies used for testing. Users can choose to answer any type of questions under three different categories. Users have a facility to search, view and export the data to excel. Also, users get daily and weekly reports through email about the new trends in testing implemented around the globe. Testing Trends WQR app is available on Android and IOS platforms.\\r\\n\\r\\nResponsibilities: \\u00e2\\u0080\\u00a2 Understanding the requirements and getting clarifications from client.\\r\\n\\u00e2\\u0080\\u00a2 Writing test cases based on test scenarios and executed them.\\r\\n\\u00e2\\u0080\\u00a2 Performing different types of testing such as Functional, Integration, System, and UAT.\\r\\n\\u00e2\\u0080\\u00a2 Defect resolution and maintenance of the application.\"\n        ],\n        \"semantic_type\": \"\",\n        \"description\": \"\"\n      }\n    }\n  ]\n}"
            }
          },
          "metadata": {},
          "execution_count": 3
        }
      ]
    },
    {
      "cell_type": "code",
      "source": [
        "df['Category'].value_counts()"
      ],
      "metadata": {
        "colab": {
          "base_uri": "https://localhost:8080/"
        },
        "id": "MYO79CVP2pP6",
        "outputId": "d610c0a3-47c1-453f-a0d8-06a9dcd78e37"
      },
      "execution_count": 4,
      "outputs": [
        {
          "output_type": "execute_result",
          "data": {
            "text/plain": [
              "Java Developer               84\n",
              "Testing                      70\n",
              "DevOps Engineer              55\n",
              "Python Developer             48\n",
              "Web Designing                45\n",
              "HR                           44\n",
              "Hadoop                       42\n",
              "Blockchain                   40\n",
              "ETL Developer                40\n",
              "Operations Manager           40\n",
              "Data Science                 40\n",
              "Sales                        40\n",
              "Mechanical Engineer          40\n",
              "Arts                         36\n",
              "Database                     33\n",
              "Electrical Engineering       30\n",
              "Health and fitness           30\n",
              "PMO                          30\n",
              "Business Analyst             28\n",
              "DotNet Developer             28\n",
              "Automation Testing           26\n",
              "Network Security Engineer    25\n",
              "SAP Developer                24\n",
              "Civil Engineer               24\n",
              "Advocate                     20\n",
              "Name: Category, dtype: int64"
            ]
          },
          "metadata": {},
          "execution_count": 4
        }
      ]
    },
    {
      "cell_type": "code",
      "source": [
        "sns.countplot(df[\"Category\"], palette='pastel')"
      ],
      "metadata": {
        "id": "Er18DQ2p4hmM",
        "colab": {
          "base_uri": "https://localhost:8080/",
          "height": 558
        },
        "outputId": "39f71524-6935-4fba-d5b5-350958b16c19"
      },
      "execution_count": 5,
      "outputs": [
        {
          "output_type": "stream",
          "name": "stderr",
          "text": [
            "<ipython-input-5-5c2430bf1347>:1: FutureWarning: \n",
            "\n",
            "Passing `palette` without assigning `hue` is deprecated and will be removed in v0.14.0. Assign the `y` variable to `hue` and set `legend=False` for the same effect.\n",
            "\n",
            "  sns.countplot(df[\"Category\"], palette='pastel')\n"
          ]
        },
        {
          "output_type": "execute_result",
          "data": {
            "text/plain": [
              "<Axes: xlabel='count', ylabel='Category'>"
            ]
          },
          "metadata": {},
          "execution_count": 5
        },
        {
          "output_type": "display_data",
          "data": {
            "text/plain": [
              "<Figure size 640x480 with 1 Axes>"
            ],
            "image/png": "[encoded data removed]"
          },
          "metadata": {}
        }
      ]
    },
    {
      "cell_type": "code",
      "source": [
        "df['Category'].unique()"
      ],
      "metadata": {
        "id": "j0RlrMbn2vEx",
        "colab": {
          "base_uri": "https://localhost:8080/"
        },
        "outputId": "dee53d46-e3bc-4213-8919-31f3672150ce"
      },
      "execution_count": 6,
      "outputs": [
        {
          "output_type": "execute_result",
          "data": {
            "text/plain": [
              "array(['Data Science', 'HR', 'Advocate', 'Arts', 'Web Designing',\n",
              "       'Mechanical Engineer', 'Sales', 'Health and fitness',\n",
              "       'Civil Engineer', 'Java Developer', 'Business Analyst',\n",
              "       'SAP Developer', 'Automation Testing', 'Electrical Engineering',\n",
              "       'Operations Manager', 'Python Developer', 'DevOps Engineer',\n",
              "       'Network Security Engineer', 'PMO', 'Database', 'Hadoop',\n",
              "       'ETL Developer', 'DotNet Developer', 'Blockchain', 'Testing'],\n",
              "      dtype=object)"
            ]
          },
          "metadata": {},
          "execution_count": 6
        }
      ]
    },
    {
      "cell_type": "code",
      "source": [
        "df['Category'][0]"
      ],
      "metadata": {
        "colab": {
          "base_uri": "https://localhost:8080/",
          "height": 36
        },
        "id": "q5F7ImN6BAqm",
        "outputId": "c08023ef-9d58-4fcf-ab48-55ca988c5d6f"
      },
      "execution_count": 7,
      "outputs": [
        {
          "output_type": "execute_result",
          "data": {
            "text/plain": [
              "'Data Science'"
            ],
            "application/vnd.google.colaboratory.intrinsic+json": {
              "type": "string"
            }
          },
          "metadata": {},
          "execution_count": 7
        }
      ]
    },
    {
      "cell_type": "code",
      "source": [
        "df['Resume'][0]"
      ],
      "metadata": {
        "colab": {
          "base_uri": "https://localhost:8080/",
          "height": 109
        },
        "id": "xLApHUYXB9J7",
        "outputId": "80e8475d-0ce2-4deb-ff59-b69ecb29f105"
      },
      "execution_count": 8,
      "outputs": [
        {
          "output_type": "execute_result",
          "data": {
            "text/plain": [
              "'Skills * Programming Languages: Python (pandas, numpy, scipy, scikit-learn, matplotlib), Sql, Java, JavaScript/JQuery. * Machine learning: Regression, SVM, NaÃ¯ve Bayes, KNN, Random Forest, Decision Trees, Boosting techniques, Cluster Analysis, Word Embedding, Sentiment Analysis, Natural Language processing, Dimensionality reduction, Topic Modelling (LDA, NMF), PCA & Neural Nets. * Database Visualizations: Mysql, SqlServer, Cassandra, Hbase, ElasticSearch D3.js, DC.js, Plotly, kibana, matplotlib, ggplot, Tableau. * Others: Regular Expression, HTML, CSS, Angular 6, Logstash, Kafka, Python Flask, Git, Docker, computer vision - Open CV and understanding of Deep learning.Education Details \\r\\n\\r\\nData Science Assurance Associate \\r\\n\\r\\nData Science Assurance Associate - Ernst & Young LLP\\r\\nSkill Details \\r\\nJAVASCRIPT- Exprience - 24 months\\r\\njQuery- Exprience - 24 months\\r\\nPython- Exprience - 24 monthsCompany Details \\r\\ncompany - Ernst & Young LLP\\r\\ndescription - Fraud Investigations and Dispute Services   Assurance\\r\\nTECHNOLOGY ASSISTED REVIEW\\r\\nTAR (Technology Assisted Review) assists in accelerating the review process and run analytics and generate reports.\\r\\n* Core member of a team helped in developing automated review platform tool from scratch for assisting E discovery domain, this tool implements predictive coding and topic modelling by automating reviews, resulting in reduced labor costs and time spent during the lawyers review.\\r\\n* Understand the end to end flow of the solution, doing research and development for classification models, predictive analysis and mining of the information present in text data. Worked on analyzing the outputs and precision monitoring for the entire tool.\\r\\n* TAR assists in predictive coding, topic modelling from the evidence by following EY standards. Developed the classifier models in order to identify \"red flags\" and fraud-related issues.\\r\\n\\r\\nTools & Technologies: Python, scikit-learn, tfidf, word2vec, doc2vec, cosine similarity, NaÃ¯ve Bayes, LDA, NMF for topic modelling, Vader and text blob for sentiment analysis. Matplot lib, Tableau dashboard for reporting.\\r\\n\\r\\nMULTIPLE DATA SCIENCE AND ANALYTIC PROJECTS (USA CLIENTS)\\r\\nTEXT ANALYTICS - MOTOR VEHICLE CUSTOMER REVIEW DATA * Received customer feedback survey data for past one year. Performed sentiment (Positive, Negative & Neutral) and time series analysis on customer comments across all 4 categories.\\r\\n* Created heat map of terms by survey category based on frequency of words * Extracted Positive and Negative words across all the Survey categories and plotted Word cloud.\\r\\n* Created customized tableau dashboards for effective reporting and visualizations.\\r\\nCHATBOT * Developed a user friendly chatbot for one of our Products which handle simple questions about hours of operation, reservation options and so on.\\r\\n* This chat bot serves entire product related questions. Giving overview of tool via QA platform and also give recommendation responses so that user question to build chain of relevant answer.\\r\\n* This too has intelligence to build the pipeline of questions as per user requirement and asks the relevant /recommended questions.\\r\\n\\r\\nTools & Technologies: Python, Natural language processing, NLTK, spacy, topic modelling, Sentiment analysis, Word Embedding, scikit-learn, JavaScript/JQuery, SqlServer\\r\\n\\r\\nINFORMATION GOVERNANCE\\r\\nOrganizations to make informed decisions about all of the information they store. The integrated Information Governance portfolio synthesizes intelligence across unstructured data sources and facilitates action to ensure organizations are best positioned to counter information risk.\\r\\n* Scan data from multiple sources of formats and parse different file formats, extract Meta data information, push results for indexing elastic search and created customized, interactive dashboards using kibana.\\r\\n* Preforming ROT Analysis on the data which give information of data which helps identify content that is either Redundant, Outdated, or Trivial.\\r\\n* Preforming full-text search analysis on elastic search with predefined methods which can tag as (PII) personally identifiable information (social security numbers, addresses, names, etc.) which frequently targeted during cyber-attacks.\\r\\nTools & Technologies: Python, Flask, Elastic Search, Kibana\\r\\n\\r\\nFRAUD ANALYTIC PLATFORM\\r\\nFraud Analytics and investigative platform to review all red flag cases.\\r\\nâ\\x80¢ FAP is a Fraud Analytics and investigative platform with inbuilt case manager and suite of Analytics for various ERP systems.\\r\\n* It can be used by clients to interrogate their Accounting systems for identifying the anomalies which can be indicators of fraud by running advanced analytics\\r\\nTools & Technologies: HTML, JavaScript, SqlServer, JQuery, CSS, Bootstrap, Node.js, D3.js, DC.js'"
            ],
            "application/vnd.google.colaboratory.intrinsic+json": {
              "type": "string"
            }
          },
          "metadata": {},
          "execution_count": 8
        }
      ]
    },
    {
      "cell_type": "code",
      "source": [
        "# cleaning data\n",
        "#1.   URLs\n",
        "#2. hashtags\n",
        "#3. mentions\n",
        "#4. special letters\n",
        "#5. punctuations\n",
        "\n",
        "import re\n",
        "def cleaned_text(txt):\n",
        "    cleanText=re.sub(\"http[s]?\\://\\S+\",\"\",txt) #removing the the hyperlinks\n",
        "    cleanText=re.sub(r\"#\\S+\", \"\",cleanText) #removing the hashtags\n",
        "    cleanText=re.sub(r\"@\\S+\", \"\",cleanText) #removing the mentions\n",
        "    cleanText=re.sub(r'[^A-Za-z0-9\\s]+', '', cleanText) #removing the special letters\n",
        "    cleanText=re.sub(r'[^\\w\\s]','',cleanText)\n",
        "    cleanText = re.sub(r'[\\r\\n]+', ' ', cleanText)\n",
        "    return cleanText\n"
      ],
      "metadata": {
        "id": "N9PPWvGqCJ_6"
      },
      "execution_count": 9,
      "outputs": []
    },
    {
      "cell_type": "code",
      "source": [
        "cleaned_text('my ass# is #3 http//:linkdein.haris-roy-pulinilkunnathil+@gmail\\n\\r.com')"
      ],
      "metadata": {
        "colab": {
          "base_uri": "https://localhost:8080/",
          "height": 36
        },
        "id": "xrXTcY2UPWJb",
        "outputId": "5a1480aa-668a-4d65-b269-1e049e0f6afb"
      },
      "execution_count": 10,
      "outputs": [
        {
          "output_type": "execute_result",
          "data": {
            "text/plain": [
              "'my ass is  httplinkdeinharisroypulinilkunnathil com'"
            ],
            "application/vnd.google.colaboratory.intrinsic+json": {
              "type": "string"
            }
          },
          "metadata": {},
          "execution_count": 10
        }
      ]
    },
    {
      "cell_type": "code",
      "source": [
        "df['Resume']=df['Resume'].apply(lambda x: cleaned_text(x))"
      ],
      "metadata": {
        "id": "RL4nhachX7i3"
      },
      "execution_count": 11,
      "outputs": []
    },
    {
      "cell_type": "code",
      "source": [
        "df['Resume'].count()"
      ],
      "metadata": {
        "colab": {
          "base_uri": "https://localhost:8080/"
        },
        "id": "S95KQ6qwYqw7",
        "outputId": "c0d68e97-0fd6-4b5f-ebc2-0dc60bfb13f5"
      },
      "execution_count": 12,
      "outputs": [
        {
          "output_type": "execute_result",
          "data": {
            "text/plain": [
              "962"
            ]
          },
          "metadata": {},
          "execution_count": 12
        }
      ]
    },
    {
      "cell_type": "code",
      "source": [
        "df['Resume'][0]"
      ],
      "metadata": {
        "colab": {
          "base_uri": "https://localhost:8080/",
          "height": 109
        },
        "id": "XwNK5wrPbz4U",
        "outputId": "4a060bbd-bde7-45b9-9c15-43b23557a33d"
      },
      "execution_count": 13,
      "outputs": [
        {
          "output_type": "execute_result",
          "data": {
            "text/plain": [
              "'Skills  Programming Languages Python pandas numpy scipy scikitlearn matplotlib Sql Java JavaScriptJQuery  Machine learning Regression SVM Nave Bayes KNN Random Forest Decision Trees Boosting techniques Cluster Analysis Word Embedding Sentiment Analysis Natural Language processing Dimensionality reduction Topic Modelling LDA NMF PCA  Neural Nets  Database Visualizations Mysql SqlServer Cassandra Hbase ElasticSearch D3js DCjs Plotly kibana matplotlib ggplot Tableau  Others Regular Expression HTML CSS Angular 6 Logstash Kafka Python Flask Git Docker computer vision  Open CV and understanding of Deep learningEducation Details  Data Science Assurance Associate  Data Science Assurance Associate  Ernst  Young LLP Skill Details  JAVASCRIPT Exprience  24 months jQuery Exprience  24 months Python Exprience  24 monthsCompany Details  company  Ernst  Young LLP description  Fraud Investigations and Dispute Services   Assurance TECHNOLOGY ASSISTED REVIEW TAR Technology Assisted Review assists in accelerating the review process and run analytics and generate reports  Core member of a team helped in developing automated review platform tool from scratch for assisting E discovery domain this tool implements predictive coding and topic modelling by automating reviews resulting in reduced labor costs and time spent during the lawyers review  Understand the end to end flow of the solution doing research and development for classification models predictive analysis and mining of the information present in text data Worked on analyzing the outputs and precision monitoring for the entire tool  TAR assists in predictive coding topic modelling from the evidence by following EY standards Developed the classifier models in order to identify red flags and fraudrelated issues Tools  Technologies Python scikitlearn tfidf word2vec doc2vec cosine similarity Nave Bayes LDA NMF for topic modelling Vader and text blob for sentiment analysis Matplot lib Tableau dashboard for reporting MULTIPLE DATA SCIENCE AND ANALYTIC PROJECTS USA CLIENTS TEXT ANALYTICS  MOTOR VEHICLE CUSTOMER REVIEW DATA  Received customer feedback survey data for past one year Performed sentiment Positive Negative  Neutral and time series analysis on customer comments across all 4 categories  Created heat map of terms by survey category based on frequency of words  Extracted Positive and Negative words across all the Survey categories and plotted Word cloud  Created customized tableau dashboards for effective reporting and visualizations CHATBOT  Developed a user friendly chatbot for one of our Products which handle simple questions about hours of operation reservation options and so on  This chat bot serves entire product related questions Giving overview of tool via QA platform and also give recommendation responses so that user question to build chain of relevant answer  This too has intelligence to build the pipeline of questions as per user requirement and asks the relevant recommended questions Tools  Technologies Python Natural language processing NLTK spacy topic modelling Sentiment analysis Word Embedding scikitlearn JavaScriptJQuery SqlServer INFORMATION GOVERNANCE Organizations to make informed decisions about all of the information they store The integrated Information Governance portfolio synthesizes intelligence across unstructured data sources and facilitates action to ensure organizations are best positioned to counter information risk  Scan data from multiple sources of formats and parse different file formats extract Meta data information push results for indexing elastic search and created customized interactive dashboards using kibana  Preforming ROT Analysis on the data which give information of data which helps identify content that is either Redundant Outdated or Trivial  Preforming fulltext search analysis on elastic search with predefined methods which can tag as PII personally identifiable information social security numbers addresses names etc which frequently targeted during cyberattacks Tools  Technologies Python Flask Elastic Search Kibana FRAUD ANALYTIC PLATFORM Fraud Analytics and investigative platform to review all red flag cases  FAP is a Fraud Analytics and investigative platform with inbuilt case manager and suite of Analytics for various ERP systems  It can be used by clients to interrogate their Accounting systems for identifying the anomalies which can be indicators of fraud by running advanced analytics Tools  Technologies HTML JavaScript SqlServer JQuery CSS Bootstrap Nodejs D3js DCjs'"
            ],
            "application/vnd.google.colaboratory.intrinsic+json": {
              "type": "string"
            }
          },
          "metadata": {},
          "execution_count": 13
        }
      ]
    },
    {
      "cell_type": "code",
      "source": [
        "# Converting words into categorical values\n",
        "from sklearn.preprocessing import LabelEncoder\n",
        "import pandas as pd\n",
        "\n",
        "#creating initial dataframe\n",
        "type_of_resumes=('Data Science', 'HR', 'Advocate', 'Arts', 'Web Designing',\n",
        "       'Mechanical Engineer', 'Sales', 'Health and fitness',\n",
        "       'Civil Engineer', 'Java Developer', 'Business Analyst',\n",
        "       'SAP Developer', 'Automation Testing', 'Electrical Engineering',\n",
        "       'Operations Manager', 'Python Developer', 'DevOps Engineer',\n",
        "       'Network Security Engineer', 'PMO', 'Database', 'Hadoop',\n",
        "       'ETL Developer', 'DotNet Developer', 'Blockchain', 'Testing')\n",
        "resume_df=pd.DataFrame(type_of_resumes,columns=['Type_of_resumes'])\n",
        "\n",
        "#creating instance of label encoding\n",
        "labelencoder= LabelEncoder()\n",
        "\n",
        "#Assigning numerical values and strong in another coloumn\n",
        "resume_df['Type_of_resumes_cat']= labelencoder.fit_transform(resume_df['Type_of_resumes'])\n",
        "print(resume_df)\n",
        "\n",
        "\n",
        "'''Alternative method\n",
        "  from sklearn.preprocessing import LabelEncoder\n",
        "  le=LabelEncoder()\n",
        "  le.fit(df['Category'])\n",
        "  df['Category']=le.transform(df[df['Category']])'''\n"
      ],
      "metadata": {
        "colab": {
          "base_uri": "https://localhost:8080/",
          "height": 510
        },
        "id": "Yk00O1qyb_yf",
        "outputId": "99b997e1-53d9-4aee-f314-c235c528c0c3"
      },
      "execution_count": 14,
      "outputs": [
        {
          "output_type": "stream",
          "name": "stdout",
          "text": [
            "              Type_of_resumes  Type_of_resumes_cat\n",
            "0                Data Science                    6\n",
            "1                          HR                   12\n",
            "2                    Advocate                    0\n",
            "3                        Arts                    1\n",
            "4               Web Designing                   24\n",
            "5         Mechanical Engineer                   16\n",
            "6                       Sales                   22\n",
            "7          Health and fitness                   14\n",
            "8              Civil Engineer                    5\n",
            "9              Java Developer                   15\n",
            "10           Business Analyst                    4\n",
            "11              SAP Developer                   21\n",
            "12         Automation Testing                    2\n",
            "13     Electrical Engineering                   11\n",
            "14         Operations Manager                   18\n",
            "15           Python Developer                   20\n",
            "16            DevOps Engineer                    8\n",
            "17  Network Security Engineer                   17\n",
            "18                        PMO                   19\n",
            "19                   Database                    7\n",
            "20                     Hadoop                   13\n",
            "21              ETL Developer                   10\n",
            "22           DotNet Developer                    9\n",
            "23                 Blockchain                    3\n",
            "24                    Testing                   23\n"
          ]
        },
        {
          "output_type": "execute_result",
          "data": {
            "text/plain": [
              "\"Alternative method\\n  from sklearn.preprocessing import LabelEncoder\\n  le=LabelEncoder()\\n  le.fit(df['Category'])\\n  df['Category']=le.transform(df[df['Category']])\""
            ],
            "application/vnd.google.colaboratory.intrinsic+json": {
              "type": "string"
            }
          },
          "metadata": {},
          "execution_count": 14
        }
      ]
    },
    {
      "cell_type": "code",
      "source": [
        "df['Category'].unique()"
      ],
      "metadata": {
        "id": "8J4vn7kzfpko",
        "colab": {
          "base_uri": "https://localhost:8080/"
        },
        "outputId": "206550e1-4f72-4691-d371-650df41c8143"
      },
      "execution_count": 15,
      "outputs": [
        {
          "output_type": "execute_result",
          "data": {
            "text/plain": [
              "array(['Data Science', 'HR', 'Advocate', 'Arts', 'Web Designing',\n",
              "       'Mechanical Engineer', 'Sales', 'Health and fitness',\n",
              "       'Civil Engineer', 'Java Developer', 'Business Analyst',\n",
              "       'SAP Developer', 'Automation Testing', 'Electrical Engineering',\n",
              "       'Operations Manager', 'Python Developer', 'DevOps Engineer',\n",
              "       'Network Security Engineer', 'PMO', 'Database', 'Hadoop',\n",
              "       'ETL Developer', 'DotNet Developer', 'Blockchain', 'Testing'],\n",
              "      dtype=object)"
            ]
          },
          "metadata": {},
          "execution_count": 15
        }
      ]
    },
    {
      "cell_type": "code",
      "source": [
        " #vectorisation\n",
        "df['Resume'][0]"
      ],
      "metadata": {
        "id": "3Dw-odcCMPCT",
        "colab": {
          "base_uri": "https://localhost:8080/",
          "height": 109
        },
        "outputId": "216c75b3-3f46-4ddf-9625-718988acf6bd"
      },
      "execution_count": 16,
      "outputs": [
        {
          "output_type": "execute_result",
          "data": {
            "text/plain": [
              "'Skills  Programming Languages Python pandas numpy scipy scikitlearn matplotlib Sql Java JavaScriptJQuery  Machine learning Regression SVM Nave Bayes KNN Random Forest Decision Trees Boosting techniques Cluster Analysis Word Embedding Sentiment Analysis Natural Language processing Dimensionality reduction Topic Modelling LDA NMF PCA  Neural Nets  Database Visualizations Mysql SqlServer Cassandra Hbase ElasticSearch D3js DCjs Plotly kibana matplotlib ggplot Tableau  Others Regular Expression HTML CSS Angular 6 Logstash Kafka Python Flask Git Docker computer vision  Open CV and understanding of Deep learningEducation Details  Data Science Assurance Associate  Data Science Assurance Associate  Ernst  Young LLP Skill Details  JAVASCRIPT Exprience  24 months jQuery Exprience  24 months Python Exprience  24 monthsCompany Details  company  Ernst  Young LLP description  Fraud Investigations and Dispute Services   Assurance TECHNOLOGY ASSISTED REVIEW TAR Technology Assisted Review assists in accelerating the review process and run analytics and generate reports  Core member of a team helped in developing automated review platform tool from scratch for assisting E discovery domain this tool implements predictive coding and topic modelling by automating reviews resulting in reduced labor costs and time spent during the lawyers review  Understand the end to end flow of the solution doing research and development for classification models predictive analysis and mining of the information present in text data Worked on analyzing the outputs and precision monitoring for the entire tool  TAR assists in predictive coding topic modelling from the evidence by following EY standards Developed the classifier models in order to identify red flags and fraudrelated issues Tools  Technologies Python scikitlearn tfidf word2vec doc2vec cosine similarity Nave Bayes LDA NMF for topic modelling Vader and text blob for sentiment analysis Matplot lib Tableau dashboard for reporting MULTIPLE DATA SCIENCE AND ANALYTIC PROJECTS USA CLIENTS TEXT ANALYTICS  MOTOR VEHICLE CUSTOMER REVIEW DATA  Received customer feedback survey data for past one year Performed sentiment Positive Negative  Neutral and time series analysis on customer comments across all 4 categories  Created heat map of terms by survey category based on frequency of words  Extracted Positive and Negative words across all the Survey categories and plotted Word cloud  Created customized tableau dashboards for effective reporting and visualizations CHATBOT  Developed a user friendly chatbot for one of our Products which handle simple questions about hours of operation reservation options and so on  This chat bot serves entire product related questions Giving overview of tool via QA platform and also give recommendation responses so that user question to build chain of relevant answer  This too has intelligence to build the pipeline of questions as per user requirement and asks the relevant recommended questions Tools  Technologies Python Natural language processing NLTK spacy topic modelling Sentiment analysis Word Embedding scikitlearn JavaScriptJQuery SqlServer INFORMATION GOVERNANCE Organizations to make informed decisions about all of the information they store The integrated Information Governance portfolio synthesizes intelligence across unstructured data sources and facilitates action to ensure organizations are best positioned to counter information risk  Scan data from multiple sources of formats and parse different file formats extract Meta data information push results for indexing elastic search and created customized interactive dashboards using kibana  Preforming ROT Analysis on the data which give information of data which helps identify content that is either Redundant Outdated or Trivial  Preforming fulltext search analysis on elastic search with predefined methods which can tag as PII personally identifiable information social security numbers addresses names etc which frequently targeted during cyberattacks Tools  Technologies Python Flask Elastic Search Kibana FRAUD ANALYTIC PLATFORM Fraud Analytics and investigative platform to review all red flag cases  FAP is a Fraud Analytics and investigative platform with inbuilt case manager and suite of Analytics for various ERP systems  It can be used by clients to interrogate their Accounting systems for identifying the anomalies which can be indicators of fraud by running advanced analytics Tools  Technologies HTML JavaScript SqlServer JQuery CSS Bootstrap Nodejs D3js DCjs'"
            ],
            "application/vnd.google.colaboratory.intrinsic+json": {
              "type": "string"
            }
          },
          "metadata": {},
          "execution_count": 16
        }
      ]
    },
    {
      "cell_type": "code",
      "source": [
        "from sklearn.feature_extraction.text import TfidfVectorizer\n",
        "corpus=df['Resume']\n",
        "vectorizer=TfidfVectorizer()\n",
        "tfidf=TfidfVectorizer(stop_words='english')\n",
        "X=vectorizer.fit_transform(corpus)"
      ],
      "metadata": {
        "id": "r-C_oGcsomfP"
      },
      "execution_count": 17,
      "outputs": []
    },
    {
      "cell_type": "code",
      "source": [
        "vectorizer.get_feature_names_out()"
      ],
      "metadata": {
        "colab": {
          "base_uri": "https://localhost:8080/"
        },
        "id": "NfJoPJKNfRUp",
        "outputId": "ca302037-243a-4c8d-f953-af488b4dfc5f"
      },
      "execution_count": 18,
      "outputs": [
        {
          "output_type": "execute_result",
          "data": {
            "text/plain": [
              "array(['000', '01', '017', ..., 'zone', 'zookeeper', 'zz'], dtype=object)"
            ]
          },
          "metadata": {},
          "execution_count": 18
        }
      ]
    },
    {
      "cell_type": "code",
      "source": [
        "df.head()"
      ],
      "metadata": {
        "colab": {
          "base_uri": "https://localhost:8080/",
          "height": 206
        },
        "id": "dBIS1WeXlwt4",
        "outputId": "8d439e3c-6d02-43c1-e5ef-29af9d6df15d"
      },
      "execution_count": 19,
      "outputs": [
        {
          "output_type": "execute_result",
          "data": {
            "text/plain": [
              "       Category                                             Resume\n",
              "0  Data Science  Skills  Programming Languages Python pandas nu...\n",
              "1  Data Science  Education Details  May 2013 to May 2017 BE   U...\n",
              "2  Data Science  Areas of Interest Deep Learning Control System...\n",
              "3  Data Science  Skills  R  Python  SAP HANA  Tableau  SAP HANA...\n",
              "4  Data Science  Education Details   MCA   YMCAUST  Faridabad  ..."
            ],
            "text/html": [
              "\n",
              "  <div id=\"df-34024056-a448-43e6-94f8-81c8fa4642c6\" class=\"colab-df-container\">\n",
              "    <div>\n",
              "<style scoped>\n",
              "    .dataframe tbody tr th:only-of-type {\n",
              "        vertical-align: middle;\n",
              "    }\n",
              "\n",
              "    .dataframe tbody tr th {\n",
              "        vertical-align: top;\n",
              "    }\n",
              "\n",
              "    .dataframe thead th {\n",
              "        text-align: right;\n",
              "    }\n",
              "</style>\n",
              "<table border=\"1\" class=\"dataframe\">\n",
              "  <thead>\n",
              "    <tr style=\"text-align: right;\">\n",
              "      <th></th>\n",
              "      <th>Category</th>\n",
              "      <th>Resume</th>\n",
              "    </tr>\n",
              "  </thead>\n",
              "  <tbody>\n",
              "    <tr>\n",
              "      <th>0</th>\n",
              "      <td>Data Science</td>\n",
              "      <td>Skills  Programming Languages Python pandas nu...</td>\n",
              "    </tr>\n",
              "    <tr>\n",
              "      <th>1</th>\n",
              "      <td>Data Science</td>\n",
              "      <td>Education Details  May 2013 to May 2017 BE   U...</td>\n",
              "    </tr>\n",
              "    <tr>\n",
              "      <th>2</th>\n",
              "      <td>Data Science</td>\n",
              "      <td>Areas of Interest Deep Learning Control System...</td>\n",
              "    </tr>\n",
              "    <tr>\n",
              "      <th>3</th>\n",
              "      <td>Data Science</td>\n",
              "      <td>Skills  R  Python  SAP HANA  Tableau  SAP HANA...</td>\n",
              "    </tr>\n",
              "    <tr>\n",
              "      <th>4</th>\n",
              "      <td>Data Science</td>\n",
              "      <td>Education Details   MCA   YMCAUST  Faridabad  ...</td>\n",
              "    </tr>\n",
              "  </tbody>\n",
              "</table>\n",
              "</div>\n",
              "    <div class=\"colab-df-buttons\">\n",
              "\n",
              "  <div class=\"colab-df-container\">\n",
              "    <button class=\"colab-df-convert\" onclick=\"convertToInteractive('df-34024056-a448-43e6-94f8-81c8fa4642c6')\"\n",
              "            title=\"Convert this dataframe to an interactive table.\"\n",
              "            style=\"display:none;\">\n",
              "\n",
              "  <svg xmlns=\"http://www.w3.org/2000/svg\" height=\"24px\" viewBox=\"0 -960 960 960\">\n",
              "    <path d=\"M120-120v-720h720v720H120Zm60-500h600v-160H180v160Zm220 220h160v-160H400v160Zm0 220h160v-160H400v160ZM180-400h160v-160H180v160Zm440 0h160v-160H620v160ZM180-180h160v-160H180v160Zm440 0h160v-160H620v160Z\"/>\n",
              "  </svg>\n",
              "    </button>\n",
              "\n",
              "  <style>\n",
              "    .colab-df-container {\n",
              "      display:flex;\n",
              "      gap: 12px;\n",
              "    }\n",
              "\n",
              "    .colab-df-convert {\n",
              "      background-color: #E8F0FE;\n",
              "      border: none;\n",
              "      border-radius: 50%;\n",
              "      cursor: pointer;\n",
              "      display: none;\n",
              "      fill: #1967D2;\n",
              "      height: 32px;\n",
              "      padding: 0 0 0 0;\n",
              "      width: 32px;\n",
              "    }\n",
              "\n",
              "    .colab-df-convert:hover {\n",
              "      background-color: #E2EBFA;\n",
              "      box-shadow: 0px 1px 2px rgba(60, 64, 67, 0.3), 0px 1px 3px 1px rgba(60, 64, 67, 0.15);\n",
              "      fill: #174EA6;\n",
              "    }\n",
              "\n",
              "    .colab-df-buttons div {\n",
              "      margin-bottom: 4px;\n",
              "    }\n",
              "\n",
              "    [theme=dark] .colab-df-convert {\n",
              "      background-color: #3B4455;\n",
              "      fill: #D2E3FC;\n",
              "    }\n",
              "\n",
              "    [theme=dark] .colab-df-convert:hover {\n",
              "      background-color: #434B5C;\n",
              "      box-shadow: 0px 1px 3px 1px rgba(0, 0, 0, 0.15);\n",
              "      filter: drop-shadow(0px 1px 2px rgba(0, 0, 0, 0.3));\n",
              "      fill: #FFFFFF;\n",
              "    }\n",
              "  </style>\n",
              "\n",
              "    <script>\n",
              "      const buttonEl =\n",
              "        document.querySelector('#df-34024056-a448-43e6-94f8-81c8fa4642c6 button.colab-df-convert');\n",
              "      buttonEl.style.display =\n",
              "        google.colab.kernel.accessAllowed ? 'block' : 'none';\n",
              "\n",
              "      async function convertToInteractive(key) {\n",
              "        const element = document.querySelector('#df-34024056-a448-43e6-94f8-81c8fa4642c6');\n",
              "        const dataTable =\n",
              "          await google.colab.kernel.invokeFunction('convertToInteractive',\n",
              "                                                    [key], {});\n",
              "        if (!dataTable) return;\n",
              "\n",
              "        const docLinkHtml = 'Like what you see? Visit the ' +\n",
              "          '<a target=\"_blank\" href=https://colab.research.google.com/notebooks/data_table.ipynb>data table notebook</a>'\n",
              "          + ' to learn more about interactive tables.';\n",
              "        element.innerHTML = '';\n",
              "        dataTable['output_type'] = 'display_data';\n",
              "        await google.colab.output.renderOutput(dataTable, element);\n",
              "        const docLink = document.createElement('div');\n",
              "        docLink.innerHTML = docLinkHtml;\n",
              "        element.appendChild(docLink);\n",
              "      }\n",
              "    </script>\n",
              "  </div>\n",
              "\n",
              "\n",
              "<div id=\"df-b209c336-4462-4369-bd41-1239fe93f586\">\n",
              "  <button class=\"colab-df-quickchart\" onclick=\"quickchart('df-b209c336-4462-4369-bd41-1239fe93f586')\"\n",
              "            title=\"Suggest charts\"\n",
              "            style=\"display:none;\">\n",
              "\n",
              "<svg xmlns=\"http://www.w3.org/2000/svg\" height=\"24px\"viewBox=\"0 0 24 24\"\n",
              "     width=\"24px\">\n",
              "    <g>\n",
              "        <path d=\"M19 3H5c-1.1 0-2 .9-2 2v14c0 1.1.9 2 2 2h14c1.1 0 2-.9 2-2V5c0-1.1-.9-2-2-2zM9 17H7v-7h2v7zm4 0h-2V7h2v10zm4 0h-2v-4h2v4z\"/>\n",
              "    </g>\n",
              "</svg>\n",
              "  </button>\n",
              "\n",
              "<style>\n",
              "  .colab-df-quickchart {\n",
              "      --bg-color: #E8F0FE;\n",
              "      --fill-color: #1967D2;\n",
              "      --hover-bg-color: #E2EBFA;\n",
              "      --hover-fill-color: #174EA6;\n",
              "      --disabled-fill-color: #AAA;\n",
              "      --disabled-bg-color: #DDD;\n",
              "  }\n",
              "\n",
              "  [theme=dark] .colab-df-quickchart {\n",
              "      --bg-color: #3B4455;\n",
              "      --fill-color: #D2E3FC;\n",
              "      --hover-bg-color: #434B5C;\n",
              "      --hover-fill-color: #FFFFFF;\n",
              "      --disabled-bg-color: #3B4455;\n",
              "      --disabled-fill-color: #666;\n",
              "  }\n",
              "\n",
              "  .colab-df-quickchart {\n",
              "    background-color: var(--bg-color);\n",
              "    border: none;\n",
              "    border-radius: 50%;\n",
              "    cursor: pointer;\n",
              "    display: none;\n",
              "    fill: var(--fill-color);\n",
              "    height: 32px;\n",
              "    padding: 0;\n",
              "    width: 32px;\n",
              "  }\n",
              "\n",
              "  .colab-df-quickchart:hover {\n",
              "    background-color: var(--hover-bg-color);\n",
              "    box-shadow: 0 1px 2px rgba(60, 64, 67, 0.3), 0 1px 3px 1px rgba(60, 64, 67, 0.15);\n",
              "    fill: var(--button-hover-fill-color);\n",
              "  }\n",
              "\n",
              "  .colab-df-quickchart-complete:disabled,\n",
              "  .colab-df-quickchart-complete:disabled:hover {\n",
              "    background-color: var(--disabled-bg-color);\n",
              "    fill: var(--disabled-fill-color);\n",
              "    box-shadow: none;\n",
              "  }\n",
              "\n",
              "  .colab-df-spinner {\n",
              "    border: 2px solid var(--fill-color);\n",
              "    border-color: transparent;\n",
              "    border-bottom-color: var(--fill-color);\n",
              "    animation:\n",
              "      spin 1s steps(1) infinite;\n",
              "  }\n",
              "\n",
              "  @keyframes spin {\n",
              "    0% {\n",
              "      border-color: transparent;\n",
              "      border-bottom-color: var(--fill-color);\n",
              "      border-left-color: var(--fill-color);\n",
              "    }\n",
              "    20% {\n",
              "      border-color: transparent;\n",
              "      border-left-color: var(--fill-color);\n",
              "      border-top-color: var(--fill-color);\n",
              "    }\n",
              "    30% {\n",
              "      border-color: transparent;\n",
              "      border-left-color: var(--fill-color);\n",
              "      border-top-color: var(--fill-color);\n",
              "      border-right-color: var(--fill-color);\n",
              "    }\n",
              "    40% {\n",
              "      border-color: transparent;\n",
              "      border-right-color: var(--fill-color);\n",
              "      border-top-color: var(--fill-color);\n",
              "    }\n",
              "    60% {\n",
              "      border-color: transparent;\n",
              "      border-right-color: var(--fill-color);\n",
              "    }\n",
              "    80% {\n",
              "      border-color: transparent;\n",
              "      border-right-color: var(--fill-color);\n",
              "      border-bottom-color: var(--fill-color);\n",
              "    }\n",
              "    90% {\n",
              "      border-color: transparent;\n",
              "      border-bottom-color: var(--fill-color);\n",
              "    }\n",
              "  }\n",
              "</style>\n",
              "\n",
              "  <script>\n",
              "    async function quickchart(key) {\n",
              "      const quickchartButtonEl =\n",
              "        document.querySelector('#' + key + ' button');\n",
              "      quickchartButtonEl.disabled = true;  // To prevent multiple clicks.\n",
              "      quickchartButtonEl.classList.add('colab-df-spinner');\n",
              "      try {\n",
              "        const charts = await google.colab.kernel.invokeFunction(\n",
              "            'suggestCharts', [key], {});\n",
              "      } catch (error) {\n",
              "        console.error('Error during call to suggestCharts:', error);\n",
              "      }\n",
              "      quickchartButtonEl.classList.remove('colab-df-spinner');\n",
              "      quickchartButtonEl.classList.add('colab-df-quickchart-complete');\n",
              "    }\n",
              "    (() => {\n",
              "      let quickchartButtonEl =\n",
              "        document.querySelector('#df-b209c336-4462-4369-bd41-1239fe93f586 button');\n",
              "      quickchartButtonEl.style.display =\n",
              "        google.colab.kernel.accessAllowed ? 'block' : 'none';\n",
              "    })();\n",
              "  </script>\n",
              "</div>\n",
              "    </div>\n",
              "  </div>\n"
            ],
            "application/vnd.google.colaboratory.intrinsic+json": {
              "type": "dataframe",
              "variable_name": "df",
              "summary": "{\n  \"name\": \"df\",\n  \"rows\": 962,\n  \"fields\": [\n    {\n      \"column\": \"Category\",\n      \"properties\": {\n        \"dtype\": \"category\",\n        \"num_unique_values\": 25,\n        \"samples\": [\n          \"Civil Engineer\",\n          \"DevOps Engineer\",\n          \"Data Science\"\n        ],\n        \"semantic_type\": \"\",\n        \"description\": \"\"\n      }\n    },\n    {\n      \"column\": \"Resume\",\n      \"properties\": {\n        \"dtype\": \"category\",\n        \"num_unique_values\": 166,\n        \"samples\": [\n          \"KEY COMPETENCIES Multi  Operations ManagementPeople Management Customer Services  Emails  MIS Vendor  Client Services ManagementCross Functional CoordinationBanking  Financial Services Transaction Monitoring  ATM Operations   Prepaid Card Operations PreIssuance  PostIssuance  POS Operations  JOB PROFILE  SKILLS  An effective communicator with excellent relationship building  interpersonal skills Strong analytical problem solving  organizational abilities  Extensive experience in managing operations with demonstrated leadership qualities  organisational skills during the tenure  Managing customer centric operations  ensuring customer satisfaction by achieving service quality norms  Analyzing of all operational problems customer complaints and take preventive and corrective actions to resolve the same  Receive and respond to Key customer inquiries in an effective manner and provide relevant and timely information  Deft in steering banking backend operations analyzing risks and managing delinquencies with dexterity across applying techniques for maximizing recoveries and minimizing credit losses  Analyzed  identified training needs of the team members and developing organizing and conducting training programs and manage bottom quartile team to improve their performance  Preparing and maintaining daily MIS reports to evaluate the performance and efficiency of the process relate to various verticals  Measuring the performance of the processes in terms of efficiency and effectiveness matrix and ensuring adherence to SLA  Major Activities Define processes for Field Services were monitored and necessary checks were executed and controlled Also measured Vendor SLA by analyzing the TAT of vendors  the Client SLA provided to us  As per company procedures handling  ensuring vendors payment issues to be sorted out payments are processed on quarterly basis  Appropriately plan and execute each skill of operations in accordance with the departments policies and procedures  Manage relationships with business team software development team and other services to achieve project objectives Different software Worked till now  a CTL prime  Axis Bank Credit Cards b Insight  For POS Machine technical operations for Amex MID  TID Generation ATOS Venture Infotek c Ticket Management System  TATA Communications Private Services Ltd ATM  NOC Operations d Branch Portal Yalamanchili Software Exports Ltd  Prepaid Cards SBI Bank  Zaggle Prepaid Oceans Services Ltd Zaggle Prepaid Ocean Services Pvt Ltd Oct 2017 to Till Date Designation Manager  Operations Payment Industry  Prepaid Cards  INR Education Details    Commerce Mumbai Maharashtra Mumbai University Operations Manager  Service Manager  Operations Payment Industry  Prepaid Cards  INR  FTC Skill Details  OPERATIONS Exprience  73 months SATISFACTION Exprience  48 months TRAINING Exprience  24 months NOC Exprience  23 months POINT OF SALE Exprience  20 monthsCompany Details  company  Zaggle Prepaid Ocean Services Pvt Ltd description  Card Operations company  Yalamanchili Software Exports Ltd description  247 Operations Pvt Ltd Dec 2015 to Feb 2017 Designation Service Manager  Operations Payment Industry  Prepaid Cards  INR  FTC Key Contributions  A resultoriented business professional in planning executing managing processes improving efficiency of operations team building and detailing process information to determine effective result into operations  Ensuring PINs generation SLA is maintained and chargeback cases are raised in perfect timeframe  Managing email customer services properly and ensuring the emails are replied properly Also ensuring transaction monitoring is properly managed 247  Assisting Bankers SBI  Associated Banks for their BCP plans by getting executed in the system with the help of DRPR plans  vice versa or any other business requirements  Expertise in maintaining highest level of quality in operations ensuring adherence to all the quality parameters and procedures as per the stringent norms  Lead manage and supervise the execution of external audit engagements and responsible for presenting the findings  developing a quality reports to the senior Management and Clients  Coachmentor 20 team members to perform at a higher level by giving opportunities providing timely continuous feedback and working with staff to improve their communication time management decision making organization and analytical skills  Providing the solutions and services to the client in their own premises with aforesaid count of team members  Also ensuring end to end process of PR  DR as per client requirements PR DR  DR PR by interacting with internal  external stakeholders  Determining process gaps and designing  conducting training programs to enhance operational efficiency and retain talent by providing optimum opportunities for personal and professional growth company  Credit Cards description  Ensured highest standard of customer satisfaction and quality service developing new policies and procedures to improve based on customer feedback and resolving customer queries via correspondence inbound calls  email channels with the strength of 1216 Team members company  AGS Transact Technologies Limited description  Key Contributions Lead  SPOC to Banks company  TATA Communications Payment Solutions Ltd description  To make ATMs operational within TAT by analyzing the issue is technical or nontechnical and also by interacting with internal  external stakeholders company  Vertex Customer Solutions India Private Ltd description  Key Contributions  Build positive working relationship with all team members and clients by keeping Management informed   of KYC document collection  concurrent audit progress responding timely to Management inquiries understanding the business and conducting self professionally company  Financial Inclusion Network  Operations Limited description  Key Contributions POSOperations  Cascading the adherence of process is strictly followed by team members  training them to reduce the downtime  Managing Stock of EDC Terminals  Managing Deployments of terminals through Multiple teams  Would have worked with multiple terminal make  model  Managing Inward Outward  QC of applications installed in the POS machines company  Venture Infotek Private Ltd description  Key Contributions POSOperations company  Axis Bank Ltd  Customer Services description  Aug 2006 to Oct 2009 MaFoiI smart Designation Team LeaderExecutive  Emails Phone Banking  Correspondence Unit Snail Mails\",\n          \"Skill Set Hadoop Map Reduce HDFS Hive Sqoop java Duration 2016 to 2017 Role Hadoop Developer Rplus offers an quick simple and powerful cloud based Solution Demand Sense to accurately predict demand for your product in all your markets which Combines Enterprise and External Data to predict demand more accurately through Uses Social Conversation and Sentiments to derive demand and Identifies significant drivers of sale out of hordes of factors that Selects the best suited model out of multiple forecasting models for each product Responsibilities  Involved in deploying the product for customers gathering requirements and algorithm optimization at backend of the product  Load and transform Large Datasets of structured semi structured  Responsible to manage data coming from different sources and application  Supported Map Reduce Programs those are running on the cluster  Involved in creating Hive tables loading with data and writing hive queries which will run internally in map reduce wayEducation Details  Hadoop Developer  Hadoop Developer  Braindatawire Skill Details  APACHE HADOOP HDFS Exprience  49 months APACHE HADOOP SQOOP Exprience  49 months Hadoop Exprience  49 months HADOOP Exprience  49 months HADOOP DISTRIBUTED FILE SYSTEM Exprience  49 monthsCompany Details  company  Braindatawire description  Technical Skills    Programming Core Java Map Reduce Scala    Hadoop Tools HDFS Spark Map Reduce Sqoop Hive Hbase    Database MySQL Oracle    Scripting Shell Scripting    IDE Eclipse    Operating Systems Linux CentOS Windows    Source Control Git Github\",\n          \"IT Skills Area Exposure Modeling Tool Bizagi MS Visio Prototyping Tool Indigo Studio Documentation MS Office MS Word MS Excel MS Power Point Testing Proficiency Smoke Sanity Integration Functional Acceptance and UI Methodology implemented Waterfall Agile Scrum Database SQL Testing Tool HPQC Business Exposure Education Details   Bachelor Of Computer Engineering Computer Engineering Mumbai Maharashtra Thadomal Shahani Engineering college  Diploma Computer Engineering Ulhasnagar Maharashtra Institute of Technology  Secondary School Certificate  Ulhasnagar Maharashtra New English High School Senior Business Analyst  RPA  Senior Business Analyst  RPA  Hexaware Technologies Skill Details  DOCUMENTATION Exprience  47 months TESTING Exprience  29 months INTEGRATION Exprience  25 months INTEGRATOR Exprience  25 months PROTOTYPE Exprience  13 monthsCompany Details  company  Hexaware Technologies description  Working as a RPA Business Analyst company  BBH Brown Brothers Harriman  Co description  is a private bank that provides commercial banking investment management brokerage and trust services to private companies and individuals It also performs merger advisory foreign exchange custody services commercial banking and corporate financing services Responsibilities  Performed Automation Assessment of various Processes and identified processes which can be candidates of RPA  Conducting Assessment that involves an initial Understanding of the Existing System their technology processes Usage of the tools Feasibility of tool with automation tool along with automation ROI analysis  Preparing the Automation Potential Sheet which describes the steps in the process the volume and frequency of the transaction the AHT taken by SME to perform the process and depending on the steps that could be automated Automation potential and the manual efforts that will be saved are calculated Calculating the complexity of the Process which is considered for automation and depending on all these factors Number of Bots and Number of Automation tool Licenses are determined  Implementing a Proof of Concept POC to Validate Feasibility by executing the selected critical use cases for conducting a POC which will helps to identify financial and operational benefits and provide recommendations regarding the actual need for complete automation  Gathering business requirements by conducting detailed interviews with business users stakeholders and Subject Matter Experts SMEs  Preparing Business Requirement Document and then converted Business requirements into Functional Requirements Specification   Constructing prototype early toward a design acceptable to the customer and feasible  Assisting in designing test plans test scenarios and test cases for integration regression and user acceptance testing UAT to improve the overall quality of the Automation  Participating regularly in Walkthroughs and Review meetings with Project Manager QA Engineers and Development team  Regularly interacting with offshore and onshore development teams company  FADV  First Advantage description  is a criminal background check company that delivers global solutions ranging from employment screenings to background checks The following are the processes which were covered Email Process Research Process Review Process Responsibilities  Requirement Gathering through conducting Interviews  Brainstorming sessions with stakeholders  To develop decision models and execute those rules as per the use case specifications  To Testvalidate the decision models against document test data  To maintain and enhance the decision models for changes in regulations as per use case specifications  Responsible for performing the business research that will make a business growth  Developing a clear understanding of existing business functions and processes  Effectively communicate with the onsite clients for the queries suggestions and update  Giving suggestions to enhance the current processes  Identifying areas for process improvement  Flagging up potential problems at an early stage  Preparing PowerPoint presentations and documents for business meetings  Using any information gathered to write up detailed reports  Highlighting risks and issues that could impact project delivery  Able to work accurately  To develop and maintain documentation for internal team training and client end user operations  To work efficiently with team members and across teams  To mentor and train junior team members company  Clinical Testing Lab Work and Diagnostic Testing description  IQVIA provides services to its customers this includes Clinical Testing Lab Work and Diagnostic Testing under clinical trial These customers need to pay to IQVIA and aging details and invoices are generated for the same The following are the processes which were covered Tracking Payments Automated Real Time Metrics Reporting Dashboard Past Due Notifications AR Statements CreditRebill Responsibilities  Conducting meetings with clients and key stakeholders to gather requirements analyze finalize and have formal signoffs from approvers Gather and perform analysis of the business requirements  Translating the business requirements into the Business Requirement Document BRD Functional Requirement Document FRD  Facilitating meetings with the appropriate subject matter experts in both business and technology teams  Coordinating with business user community for the execution of user acceptance test as well as tracking issues  Working collaborating and coordinating with Offshore and Onsite team members to fulfill the BA responsibilities from project initiation to PostImplementation  Reviewing the test scripts with business users as well as technology team Execute test scripts with expected results for the System Integration Test SIT and User Acceptance Test UAT  Coordinating and conducting the Production Acceptance Testing PAT with the business users  Creating flow diagrams structure charts and other types of system or process representations  Managing changes to requirements and baseline through a change control process  Utilizing standard methods design and testing tools throughout project development life cycle  Work closely with the operational functional teams operations management and personnel and various technology teams to facilitate a shared understanding of requirements and priorities across all areas company  Eduavenir IT Solution description  Project MBMS MBMS  is an Inventory management application that allows user to manage inventory details of different warehouses having different products located at various locations and help extract what goods have been procured sold or returned by customers It generates automated invoicesalong withcustomized reports It also managescustomer complaint and resolution system implementation along with automated MIS on monthly basisSales and forecastingis also developed on MIS System and the streamlining of process of warehousing and dispatch along with online proof of delivery management system POD documentation is generated Responsibilities  Participate in requirement gathering discussion with client to understand the flow of business processes  Analyze the requirements and determine the core processes develop Process Documentation and ensure to stay uptodate in conjunction with ongoing changes  Participate in process flow analysis and preparing BRD SRS  Coordinating with developers designers  operations teams for various nuances of the project communicate the stakeholder requirements from requirement enhancement to implementation and finally deliver the same within estimated timeframe  Support UAT by reviewing test cases manage version control of documents software builds  Coordinate with the stakeholders for UAT sign off and coordinate internally for production movement till Golive stage of the application  Provide demo and training to internal and end user using PowerPoint presentation  Resolving project functional technical issues during UAT  Prioritizing the Production bugs and resolving the same within the estimated timeframe  Preparing Project Status Report and Production Bugs Status to all the stakeholders  Promoting and Networking for online trading platform  Designing query sheet for obtaining and comparison of quotes from various vendors  Development of product codes  material codes for inventory management Master Data Management company  CAPGEMINI Head Office description  Type Mobile and Device Testing       Duration January 2014  August 2014 Follet  An application which takes an electronic request from the user for the books he requires from a particular follet store This detailed information about books that will include the name of the book its price the date of the transaction and the parties involved which will then be sent to follet stores User then create request for one or more books for a given date This request is then processed further and user gets a mail of the date when he will be provided with that book Responsibilities  Understanding the needs and business requirements  Preparing BRD SRS by eliciting all the requirements from the client and SMEs  Understanding the dependency of the modules in the system  Preparation of test plan for Unit level and Integration level  Preparation and execution of test cases  Defect tracking Issue Resolution Risk Monitoring Status Tracking Reporting and Followup  Preparation of Test Completion report company  CAPGEMINI Head Office description   company  CAPGEMINI Head Office description  Humana is a health care insurance project of US which deals with supplying various medicines to citizens as per the doctors reference and patients insurance policy This application keeps track of all the medicines user has consumed in the past and generates a patient history A citizen is given a drug only after the doctors reference so the doctors information is also linked with the patients history Responsibilities  Understanding the requirements and getting clarifications from client  Involved in writing test cases based on test scenarios and execute them  Ensuring Test Coverage using Requirement Traceability Matrix RTM  Preparation of Test Completion report company  CAPGEMINI Head Office description  Testing Trends WQR World Quality Report is an application which allows the users to take a survey on different methods and technologies used for testing Users can choose to answer any type of questions under three different categories Users have a facility to search view and export the data to excel Also users get daily and weekly reports through email about the new trends in testing implemented around the globe Testing Trends WQR app is available on Android and IOS platforms Responsibilities  Understanding the requirements and getting clarifications from client  Writing test cases based on test scenarios and executed them  Performing different types of testing such as Functional Integration System and UAT  Defect resolution and maintenance of the application\"\n        ],\n        \"semantic_type\": \"\",\n        \"description\": \"\"\n      }\n    }\n  ]\n}"
            }
          },
          "metadata": {},
          "execution_count": 19
        }
      ]
    },
    {
      "cell_type": "code",
      "source": [
        "print(X.shape)"
      ],
      "metadata": {
        "colab": {
          "base_uri": "https://localhost:8080/"
        },
        "id": "5xwE-Wjjux0C",
        "outputId": "ef2ddcab-23a3-430b-c2b1-c84c6487b033"
      },
      "execution_count": 20,
      "outputs": [
        {
          "output_type": "stream",
          "name": "stdout",
          "text": [
            "(962, 8105)\n"
          ]
        }
      ]
    },
    {
      "cell_type": "code",
      "source": [
        "from sklearn.model_selection import train_test_split\n",
        "X_train, X_test, y_train, y_test = train_test_split(X,df['Category'],test_size=0.2, random_state=42)"
      ],
      "metadata": {
        "id": "h17bp13bmNxP"
      },
      "execution_count": 21,
      "outputs": []
    },
    {
      "cell_type": "code",
      "source": [
        "X_train.shape"
      ],
      "metadata": {
        "colab": {
          "base_uri": "https://localhost:8080/"
        },
        "id": "v0wUEzN01VXE",
        "outputId": "7cc9cd98-4e3f-497e-f903-2569889c75a0"
      },
      "execution_count": 22,
      "outputs": [
        {
          "output_type": "execute_result",
          "data": {
            "text/plain": [
              "(769, 8105)"
            ]
          },
          "metadata": {},
          "execution_count": 22
        }
      ]
    },
    {
      "cell_type": "code",
      "source": [
        "X_test.shape"
      ],
      "metadata": {
        "colab": {
          "base_uri": "https://localhost:8080/"
        },
        "id": "S8gFsz0x1YQ1",
        "outputId": "7bda560b-2ca4-44e9-d4b9-260b575a856d"
      },
      "execution_count": 23,
      "outputs": [
        {
          "output_type": "execute_result",
          "data": {
            "text/plain": [
              "(193, 8105)"
            ]
          },
          "metadata": {},
          "execution_count": 23
        }
      ]
    },
    {
      "cell_type": "code",
      "source": [
        "# Building the model\n",
        "from sklearn.neighbors import KNeighborsClassifier\n",
        "from sklearn.metrics import accuracy_score\n",
        "from sklearn.metrics import classification_report,confusion_matrix\n",
        "#Training the model and predict\n",
        "k=4\n",
        "neigh=KNeighborsClassifier(n_neighbors=k)\n",
        "neigh.fit(X_train,y_train)\n",
        "y_pred=neigh.predict(X_test)\n",
        "confusion_matrix(y_test, y_pred)"
      ],
      "metadata": {
        "colab": {
          "base_uri": "https://localhost:8080/"
        },
        "id": "YRE1jvqd3cGQ",
        "outputId": "dc57aacd-5a4b-4b68-9661-2ecef911daae"
      },
      "execution_count": 24,
      "outputs": [
        {
          "output_type": "execute_result",
          "data": {
            "text/plain": [
              "array([[ 3,  0,  0,  0,  0,  0,  0,  0,  0,  0,  0,  0,  0,  0,  0,  0,\n",
              "         0,  0,  0,  0,  0,  0,  0,  0,  0],\n",
              "       [ 0,  6,  0,  0,  0,  0,  0,  0,  0,  0,  0,  0,  0,  0,  0,  0,\n",
              "         0,  0,  0,  0,  0,  0,  0,  0,  0],\n",
              "       [ 0,  0,  5,  0,  0,  0,  0,  0,  0,  0,  0,  0,  0,  0,  0,  0,\n",
              "         0,  0,  0,  0,  0,  0,  0,  0,  0],\n",
              "       [ 0,  0,  0,  7,  0,  0,  0,  0,  0,  0,  0,  0,  0,  0,  0,  0,\n",
              "         0,  0,  0,  0,  0,  0,  0,  0,  0],\n",
              "       [ 0,  0,  0,  0,  4,  0,  0,  0,  0,  0,  0,  0,  0,  0,  0,  0,\n",
              "         0,  0,  0,  0,  0,  0,  0,  0,  0],\n",
              "       [ 0,  0,  0,  0,  0,  9,  0,  0,  0,  0,  0,  0,  0,  0,  0,  0,\n",
              "         0,  0,  0,  0,  0,  0,  0,  0,  0],\n",
              "       [ 0,  0,  0,  0,  0,  0,  5,  0,  0,  0,  0,  0,  0,  0,  0,  0,\n",
              "         0,  0,  0,  0,  0,  0,  0,  0,  0],\n",
              "       [ 0,  0,  0,  0,  0,  0,  0,  8,  0,  0,  0,  0,  0,  0,  0,  0,\n",
              "         0,  0,  0,  0,  0,  0,  0,  0,  0],\n",
              "       [ 0,  0,  0,  0,  0,  0,  0,  0, 13,  0,  0,  0,  0,  0,  0,  0,\n",
              "         0,  0,  0,  1,  0,  0,  0,  0,  0],\n",
              "       [ 0,  0,  0,  0,  0,  0,  0,  0,  0,  5,  0,  0,  0,  0,  0,  0,\n",
              "         0,  0,  0,  0,  0,  0,  0,  0,  0],\n",
              "       [ 0,  0,  0,  0,  0,  0,  0,  0,  0,  0,  7,  0,  0,  0,  0,  0,\n",
              "         0,  0,  0,  0,  0,  0,  0,  0,  0],\n",
              "       [ 0,  0,  0,  0,  0,  0,  0,  0,  0,  0,  0,  6,  0,  0,  0,  0,\n",
              "         0,  0,  0,  0,  0,  0,  0,  0,  0],\n",
              "       [ 0,  0,  0,  0,  0,  0,  0,  0,  0,  0,  0,  0, 12,  0,  0,  0,\n",
              "         0,  0,  0,  0,  0,  0,  0,  0,  0],\n",
              "       [ 0,  0,  0,  0,  0,  0,  0,  0,  0,  0,  0,  0,  0,  4,  0,  0,\n",
              "         0,  0,  0,  0,  0,  0,  0,  0,  0],\n",
              "       [ 0,  0,  0,  0,  0,  0,  0,  0,  0,  0,  0,  0,  0,  0,  7,  0,\n",
              "         0,  0,  0,  0,  0,  0,  0,  0,  0],\n",
              "       [ 0,  0,  0,  0,  0,  0,  0,  0,  0,  0,  0,  0,  0,  0,  0, 15,\n",
              "         0,  0,  0,  0,  0,  0,  0,  0,  0],\n",
              "       [ 0,  0,  0,  0,  0,  0,  0,  0,  0,  0,  0,  0,  0,  0,  0,  0,\n",
              "         8,  0,  0,  0,  0,  0,  0,  0,  0],\n",
              "       [ 0,  0,  0,  0,  0,  0,  0,  0,  0,  0,  0,  0,  0,  0,  0,  0,\n",
              "         0,  3,  0,  0,  0,  0,  0,  0,  0],\n",
              "       [ 0,  0,  0,  0,  0,  0,  0,  0,  0,  0,  0,  0,  0,  0,  0,  0,\n",
              "         0,  0, 12,  0,  0,  0,  0,  0,  0],\n",
              "       [ 0,  0,  0,  0,  0,  0,  0,  0,  0,  0,  0,  0,  0,  0,  0,  0,\n",
              "         0,  0,  0,  7,  0,  0,  0,  0,  0],\n",
              "       [ 0,  0,  0,  0,  0,  0,  0,  0,  0,  0,  0,  0,  0,  0,  0,  0,\n",
              "         0,  0,  0,  0, 10,  0,  0,  0,  0],\n",
              "       [ 0,  0,  0,  0,  0,  0,  2,  0,  0,  0,  0,  0,  0,  0,  0,  0,\n",
              "         0,  0,  0,  0,  0,  5,  0,  0,  0],\n",
              "       [ 0,  0,  0,  0,  0,  0,  0,  0,  0,  0,  0,  0,  0,  0,  0,  0,\n",
              "         0,  0,  0,  0,  0,  0,  8,  0,  0],\n",
              "       [ 0,  0,  0,  0,  0,  0,  0,  0,  0,  0,  0,  0,  0,  0,  0,  0,\n",
              "         0,  0,  0,  0,  0,  0,  0, 16,  0],\n",
              "       [ 0,  0,  0,  0,  0,  0,  0,  0,  0,  0,  0,  0,  0,  0,  0,  0,\n",
              "         0,  0,  0,  0,  0,  0,  0,  0,  5]])"
            ]
          },
          "metadata": {},
          "execution_count": 24
        }
      ]
    },
    {
      "cell_type": "code",
      "source": [
        "accuracy = accuracy_score(y_test, y_pred)\n",
        "print(\"Accuracy:\", accuracy)"
      ],
      "metadata": {
        "colab": {
          "base_uri": "https://localhost:8080/"
        },
        "id": "4kyyJmbDIex2",
        "outputId": "e9363d30-abe7-4b10-bbfb-a157174563d3"
      },
      "execution_count": 25,
      "outputs": [
        {
          "output_type": "stream",
          "name": "stdout",
          "text": [
            "Accuracy: 0.9844559585492227\n"
          ]
        }
      ]
    },
    {
      "cell_type": "code",
      "source": [
        "print('classification Report:',classification_report(y_test,y_pred))\n"
      ],
      "metadata": {
        "colab": {
          "base_uri": "https://localhost:8080/"
        },
        "id": "i3OoGLyzW4Bu",
        "outputId": "9da5d7e8-2c50-498d-c766-273219b5e16d"
      },
      "execution_count": 26,
      "outputs": [
        {
          "output_type": "stream",
          "name": "stdout",
          "text": [
            "classification Report:                            precision    recall  f1-score   support\n",
            "\n",
            "                 Advocate       1.00      1.00      1.00         3\n",
            "                     Arts       1.00      1.00      1.00         6\n",
            "       Automation Testing       1.00      1.00      1.00         5\n",
            "               Blockchain       1.00      1.00      1.00         7\n",
            "         Business Analyst       1.00      1.00      1.00         4\n",
            "           Civil Engineer       1.00      1.00      1.00         9\n",
            "             Data Science       0.71      1.00      0.83         5\n",
            "                 Database       1.00      1.00      1.00         8\n",
            "          DevOps Engineer       1.00      0.93      0.96        14\n",
            "         DotNet Developer       1.00      1.00      1.00         5\n",
            "            ETL Developer       1.00      1.00      1.00         7\n",
            "   Electrical Engineering       1.00      1.00      1.00         6\n",
            "                       HR       1.00      1.00      1.00        12\n",
            "                   Hadoop       1.00      1.00      1.00         4\n",
            "       Health and fitness       1.00      1.00      1.00         7\n",
            "           Java Developer       1.00      1.00      1.00        15\n",
            "      Mechanical Engineer       1.00      1.00      1.00         8\n",
            "Network Security Engineer       1.00      1.00      1.00         3\n",
            "       Operations Manager       1.00      1.00      1.00        12\n",
            "                      PMO       0.88      1.00      0.93         7\n",
            "         Python Developer       1.00      1.00      1.00        10\n",
            "            SAP Developer       1.00      0.71      0.83         7\n",
            "                    Sales       1.00      1.00      1.00         8\n",
            "                  Testing       1.00      1.00      1.00        16\n",
            "            Web Designing       1.00      1.00      1.00         5\n",
            "\n",
            "                 accuracy                           0.98       193\n",
            "                macro avg       0.98      0.99      0.98       193\n",
            "             weighted avg       0.99      0.98      0.98       193\n",
            "\n"
          ]
        }
      ]
    },
    {
      "cell_type": "code",
      "source": [
        "import matplotlib.pyplot as plt\n",
        "import numpy as np\n",
        "from sklearn.model_selection import validation_curve"
      ],
      "metadata": {
        "id": "pMLCs7AaIbUK"
      },
      "execution_count": 27,
      "outputs": []
    },
    {
      "cell_type": "code",
      "source": [
        "#calculating accuracy on trianing and test set using the gamma parameter with 5-fold cross validation\n",
        "parameter_range= np.arange(1,10,1)\n",
        "train_score, test_score = validation_curve(KNeighborsClassifier(), X_train, y_train,\n",
        "                                           param_name=\"n_neighbors\",\n",
        "                                           param_range=parameter_range,\n",
        "                                           cv=5, scoring=\"accuracy\")"
      ],
      "metadata": {
        "id": "aB_vZZZ1IJWf"
      },
      "execution_count": 29,
      "outputs": []
    },
    {
      "cell_type": "code",
      "source": [
        "#calculating  mean and standard deviation of training score\n",
        "mean_training_score=np.mean(train_score, axis=1)\n",
        "std_train_score=np.std(train_score, axis=1)\n",
        "\n",
        "#mean and standard deviation of testigng score\n",
        "mean_test_score=np.mean(test_score, axis=1)\n",
        "std_test_score = np.std(test_score, axis=1)\n",
        "\n"
      ],
      "metadata": {
        "id": "M9_Ivu8IajFl"
      },
      "execution_count": 31,
      "outputs": []
    },
    {
      "cell_type": "code",
      "source": [
        "#Plot mean accuracy scores for training and testing scores\n",
        "plt.plot(parameter_range, mean_training_score,\n",
        "         label=\"Training Score\", color='b')\n",
        "plt.plot(parameter_range, mean_test_score,\n",
        "         label=\"Cross Validation Score\", color='g')\n",
        "\n",
        "# Creating the plot\n",
        "plt.title(\"Validation Curve for KNN Classifier\")\n",
        "plt.xlabel(\"Number of Neighbours\")\n",
        "plt.ylabel(\"Accuracy\")\n",
        "plt.tight_layout()\n",
        "plt.legend(loc='best')\n",
        "plt.show()"
      ],
      "metadata": {
        "id": "tMr4_nsFjmJ7",
        "outputId": "11ac6658-c349-40e5-c06e-f4dcb3a0d113",
        "colab": {
          "base_uri": "https://localhost:8080/",
          "height": 487
        }
      },
      "execution_count": 35,
      "outputs": [
        {
          "output_type": "display_data",
          "data": {
            "text/plain": [
              "<Figure size 640x480 with 1 Axes>"
            ],
            "image/png": "[encoded data removed]"
          },
          "metadata": {}
        }
      ]
    },
    {
      "cell_type": "code",
      "source": [
        "# Building the application\n",
        "!pip install joblib"
      ],
      "metadata": {
        "id": "G6dqTVvqjmuc",
        "outputId": "538ccea3-da3a-4c62-e1e9-8e0058c82b8b",
        "colab": {
          "base_uri": "https://localhost:8080/"
        }
      },
      "execution_count": 47,
      "outputs": [
        {
          "output_type": "stream",
          "name": "stdout",
          "text": [
            "Requirement already satisfied: joblib in /usr/local/lib/python3.10/dist-packages (1.3.2)\n"
          ]
        }
      ]
    },
    {
      "cell_type": "code",
      "source": [
        "import joblib\n",
        "\n",
        "#saving the model with joblib\n",
        "filename='KNN_Model.sav'\n",
        "joblib.dump(neigh,filename)\n",
        "\n",
        "#saving the tf-idf vectorizer of the model for later use\n",
        "joblib.dump(vectorizer,'vectorizer.pkl')\n"
      ],
      "metadata": {
        "id": "8PrL-FC67y9v",
        "outputId": "6283e6e9-5fd5-48a9-c422-f1df25c27151",
        "colab": {
          "base_uri": "https://localhost:8080/"
        }
      },
      "execution_count": 60,
      "outputs": [
        {
          "output_type": "execute_result",
          "data": {
            "text/plain": [
              "['vectorizer.pkl']"
            ]
          },
          "metadata": {},
          "execution_count": 60
        }
      ]
    },
    {
      "cell_type": "code",
      "source": [
        "#load model with joblib\n",
        "loaded_model=joblib.load(filename)\n",
        "# evaluate model\n",
        "y_predict= neigh.predict(X_test)\n",
        "\n",
        "# check resulsts\n",
        "print(classification_report(y_test, y_predict))"
      ],
      "metadata": {
        "id": "x-fv1v7WAQuP",
        "outputId": "8aa2ae27-426e-492f-d355-c4e850b114fc",
        "colab": {
          "base_uri": "https://localhost:8080/"
        }
      },
      "execution_count": 61,
      "outputs": [
        {
          "output_type": "stream",
          "name": "stdout",
          "text": [
            "                           precision    recall  f1-score   support\n",
            "\n",
            "                 Advocate       1.00      1.00      1.00         3\n",
            "                     Arts       1.00      1.00      1.00         6\n",
            "       Automation Testing       1.00      1.00      1.00         5\n",
            "               Blockchain       1.00      1.00      1.00         7\n",
            "         Business Analyst       1.00      1.00      1.00         4\n",
            "           Civil Engineer       1.00      1.00      1.00         9\n",
            "             Data Science       0.71      1.00      0.83         5\n",
            "                 Database       1.00      1.00      1.00         8\n",
            "          DevOps Engineer       1.00      0.93      0.96        14\n",
            "         DotNet Developer       1.00      1.00      1.00         5\n",
            "            ETL Developer       1.00      1.00      1.00         7\n",
            "   Electrical Engineering       1.00      1.00      1.00         6\n",
            "                       HR       1.00      1.00      1.00        12\n",
            "                   Hadoop       1.00      1.00      1.00         4\n",
            "       Health and fitness       1.00      1.00      1.00         7\n",
            "           Java Developer       1.00      1.00      1.00        15\n",
            "      Mechanical Engineer       1.00      1.00      1.00         8\n",
            "Network Security Engineer       1.00      1.00      1.00         3\n",
            "       Operations Manager       1.00      1.00      1.00        12\n",
            "                      PMO       0.88      1.00      0.93         7\n",
            "         Python Developer       1.00      1.00      1.00        10\n",
            "            SAP Developer       1.00      0.71      0.83         7\n",
            "                    Sales       1.00      1.00      1.00         8\n",
            "                  Testing       1.00      1.00      1.00        16\n",
            "            Web Designing       1.00      1.00      1.00         5\n",
            "\n",
            "                 accuracy                           0.98       193\n",
            "                macro avg       0.98      0.99      0.98       193\n",
            "             weighted avg       0.99      0.98      0.98       193\n",
            "\n"
          ]
        }
      ]
    },
    {
      "cell_type": "code",
      "source": [
        "myresume='''\n",
        "HARIS ROY PULINILKUNNATHIL\n",
        "⋄ London ⋄ Contact: xxxxxxxxx ⋄ xxxxxx@gmail.com ⋄ Linkedin ⋄ GitHub\n",
        "PROFESSIONAL SUMMARY\n",
        "Dynamic and highly motivated data science professional with a Master’s degree in Data Science and a Bachelor’s\n",
        "degree in Mathematics. Seeking an opportunity to join a progressive organisation’s graduate training programme,\n",
        "with a focus on HR Technology, where I can apply my analytical skills, technical expertise, and passion for continuous\n",
        "learning to contribute to the company’s growth and success.\n",
        "EDUCATION\n",
        "MSc in Data Science, Distinction, University of Sussex, United Kingdom Sep 2022 - Nov 2023\n",
        "Relevant Coursework: Machine Learning, Natural Language Processing\n",
        "BSc in Mathematics, First Class, Kannur University, India Jun 2018 - Sep 2021\n",
        "Relevant Coursework: Statistics, Physics\n",
        "SKILLS\n",
        "• Proficient in data analysis, Machine Learning, Natural Language Processing and statistical modeling\n",
        "• Strong programming skills in Python, R, and SQL.\n",
        "• Excellent problem-solving and decision-making abilities.\n",
        "• Experience with cloud technologies like AWS.\n",
        "• Excellent problem-solving abilities and attention to detail\n",
        "• Effective communication and interpersonal skills\n",
        "• Ability to work collaboratively in a team environment and independently when required\n",
        "• Adaptable and eager to learn new technologies and methodologies\n",
        "EXPERIENCE\n",
        "Machine Learning Contributer Jan 2024 - Present\n",
        "Unify London, UK\n",
        "• Actively participated in open-source community, addressing bugs, improving stability, and collaborating with\n",
        "developers and contributing to documentation.\n",
        "Data Science and Analytics Internship Oct 2023 - Dec 2023\n",
        "Oasis Infobyte New Delhi, India\n",
        "• Analysed labour market data using Python to identify trends and insights related to unemployment rates and\n",
        "presented to stakeholders.\n",
        "• Generated actionable recommendations to address unemployment challenges based on data-driven insights.\n",
        "• Developed a regression model (Linear regression) model to predict car prices and their sales, incorporating\n",
        "features like brand, mileage, and year of manufacture.\n",
        "PROJECTS\n",
        "Stock Market Forecasting using Deep Learning: Accurately forecast future stock prices for the NIFTY-50 Index\n",
        "in the Indian Stock Market, utilising regression techniques. Achieved enhanced performance through hyperparameter\n",
        "tuning and implementing various machine and deep learning models, including K-Nearest Neighbours (K-NN), LSTM,\n",
        "GRU, and a unique hybrid neural network architecture combining LSTM and GRU layers based on a research paper.-\n",
        "Numpy, Pandas, matplotlib, Seaborn, Sci-kit learn, Tensorflow, Keras\n",
        "Chatbot using Falcon: Designed, developed, and deployed ChatBot-Falcon1, a state-of-the-art chatbot powered\n",
        "by the Falcon- 7B language model. Conducted rigorous testing and fine-tuning to ensure high accuracy and user\n",
        "satisfaction.- Langchain, Huggingface, Transformers\n",
        "Dry Beans Classification: Successfully classified seven types of dry beans from a dataset of 13,611 images using\n",
        "optimized machine learning models. Achieved 92.69% accuracy with Support Vector Machines (SVM) and 92.94%\n",
        "with Gradient Boosting Classifier (GBC). Conducted Exploratory Data Analysis (EDA), pre-processed data, and\n",
        "applied feature scaling. Utilized primary model SVM, fine-tuned with GridSearchCV and BayesSearchCV. Developed\n",
        "and assessed GBC model for agricultural bean sorting and grading, demonstrating expertise in data analysis and\n",
        "modeling.- Numpy, Pandas, Seaborn, Sci-kit learn\n",
        "Propoganda detection: Effectively classified textual propaganda, demonstrating expertise in natural language\n",
        "processing. Integrated various methods, including word embeddings (word2vec, GloVe), neural language models\n",
        "(GRU ensemble, BERT), and logistic regression techniques to achieve accurate results.-Numpy, Pandas, Seaborn,\n",
        "spaCy, Sci-kit learn, Tensorflow, Transformers\n",
        "ACHIEVEMENTS AND EXTRA-CURRICULAR ACTIVITIES\n",
        "• Actively write blog posts about Machine Learning, Natural Language Processing and Data Science.\n",
        "• Achieved an overall band of 7 in the IELTS Academic exam in April 2022.\n",
        "• Volunteered for National Service Scheme (NSS)\n",
        "• Part of the student’s union in Kannur University\n",
        "• Volunteered at local community organisations, organising events and fundraisers to support education and\n",
        "environmental causes.\n",
        "                           '''"
      ],
      "metadata": {
        "id": "XiU66dIiDLvY"
      },
      "execution_count": 62,
      "outputs": []
    },
    {
      "cell_type": "code",
      "source": [
        "joblib.dump(neigh,filename)"
      ],
      "metadata": {
        "id": "daqcv0H9Ec8K",
        "outputId": "d6227ea6-dad0-4ff1-a7d6-0f55b16888d3",
        "colab": {
          "base_uri": "https://localhost:8080/"
        }
      },
      "execution_count": 63,
      "outputs": [
        {
          "output_type": "execute_result",
          "data": {
            "text/plain": [
              "['KNN_Model.sav']"
            ]
          },
          "metadata": {},
          "execution_count": 63
        }
      ]
    },
    {
      "cell_type": "code",
      "source": [
        "#calling the saved model\n",
        "model_recalling=joblib.load('KNN_Model.sav')\n",
        "#recalling the tfidf model\n",
        "vectorizer=joblib.load('vectorizer.pkl')\n",
        "\n",
        "#clean the input resume\n",
        "cleaned_resume=cleaned_text(myresume)\n",
        "\n",
        "#transform the cleaned resume using trained tfidfvector\n",
        "input_features=vectorizer.transform([cleaned_resume])\n",
        "\n",
        "#make the prediction using the loaded classifier\n",
        "prediction_id=neigh.predict(input_features)[0]\n",
        "\n",
        "#mapping category ID to category name\n",
        "category_mapping={\n",
        "    \"Data Science\": 6,\n",
        "    \"HR\": 12,\n",
        "    \"Advocate\": 0,\n",
        "    \"Arts\": 1,\n",
        "    \"Web Designing\": 24,\n",
        "    \"Mechanical Engineer\": 16,\n",
        "    \"Sales\": 22,\n",
        "    \"Health and fitness\": 14,\n",
        "    \"Civil Engineer\": 5,\n",
        "    \"Java Developer\": 15,\n",
        "    \"Business Analyst\": 4,\n",
        "    \"SAP Developer\": 21,\n",
        "    \"Automation Testing\": 2,\n",
        "    \"Electrical Engineering\": 11,\n",
        "    \"Operations Manager\": 18,\n",
        "    \"Python Developer\": 20,\n",
        "    \"DevOps Engineer\": 8,\n",
        "    \"Network Security Engineer\": 17,\n",
        "    \"PMO\": 19,\n",
        "    \"Database\": 7,\n",
        "    \"Hadoop\": 13,\n",
        "    \"ETL Developer\": 10,\n",
        "    \"DotNet Developer\": 9,\n",
        "    \"Blockchain\": 3,\n",
        "    \"Testing\": 23\n",
        "}\n",
        "\n",
        "category_name = category_mapping.get(prediction_id,'Unknown')\n",
        "\n",
        "print(prediction_id)"
      ],
      "metadata": {
        "id": "ZynEotF-FEh9",
        "outputId": "bf249c88-e278-40d3-d133-c36c7784a9e2",
        "colab": {
          "base_uri": "https://localhost:8080/"
        }
      },
      "execution_count": 68,
      "outputs": [
        {
          "output_type": "stream",
          "name": "stdout",
          "text": [
            "Data Science\n"
          ]
        }
      ]
    },
    {
      "cell_type": "code",
      "source": [],
      "metadata": {
        "id": "apZ2DK6yFilO"
      },
      "execution_count": null,
      "outputs": []
    }
  ]
}